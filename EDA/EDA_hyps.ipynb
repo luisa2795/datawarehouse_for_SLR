{
 "cells": [
  {
   "cell_type": "code",
   "execution_count": 1,
   "metadata": {},
   "outputs": [
    {
     "data": {
      "text/html": [
       "<div>\n",
       "<style scoped>\n",
       "    .dataframe tbody tr th:only-of-type {\n",
       "        vertical-align: middle;\n",
       "    }\n",
       "\n",
       "    .dataframe tbody tr th {\n",
       "        vertical-align: top;\n",
       "    }\n",
       "\n",
       "    .dataframe thead th {\n",
       "        text-align: right;\n",
       "    }\n",
       "</style>\n",
       "<table border=\"1\" class=\"dataframe\">\n",
       "  <thead>\n",
       "    <tr style=\"text-align: right;\">\n",
       "      <th></th>\n",
       "      <th>article_id</th>\n",
       "      <th>sentence_id</th>\n",
       "      <th>hyp_number</th>\n",
       "      <th>sentence</th>\n",
       "      <th>cause</th>\n",
       "      <th>effect</th>\n",
       "      <th>sign</th>\n",
       "      <th>condition</th>\n",
       "      <th>moderator</th>\n",
       "      <th>mediator</th>\n",
       "      <th>interaction_sign</th>\n",
       "      <th>interaction_details</th>\n",
       "      <th>pattern</th>\n",
       "    </tr>\n",
       "  </thead>\n",
       "  <tbody>\n",
       "    <tr>\n",
       "      <th>0</th>\n",
       "      <td>19</td>\n",
       "      <td>19_4848_4894</td>\n",
       "      <td>6</td>\n",
       "      <td>: attitudes direct relationship exists between...</td>\n",
       "      <td>alienated individuals</td>\n",
       "      <td>amount of attention paid to information regard...</td>\n",
       "      <td>-</td>\n",
       "      <td>NaN</td>\n",
       "      <td>NaN</td>\n",
       "      <td>NaN</td>\n",
       "      <td>NaN</td>\n",
       "      <td>NaN</td>\n",
       "      <td>1.0</td>\n",
       "    </tr>\n",
       "    <tr>\n",
       "      <th>1</th>\n",
       "      <td>28</td>\n",
       "      <td>28_4714_4736</td>\n",
       "      <td>2</td>\n",
       "      <td>: Users are more likely to select less crowded...</td>\n",
       "      <td>likely to select</td>\n",
       "      <td>crowded locations when immediacy of crowding i...</td>\n",
       "      <td>-</td>\n",
       "      <td>NaN</td>\n",
       "      <td>NaN</td>\n",
       "      <td>NaN</td>\n",
       "      <td>NaN</td>\n",
       "      <td>NaN</td>\n",
       "      <td>5.0</td>\n",
       "    </tr>\n",
       "    <tr>\n",
       "      <th>2</th>\n",
       "      <td>28</td>\n",
       "      <td>28_5002_5017</td>\n",
       "      <td>3</td>\n",
       "      <td>: Health anxiety moderates the effect of immed...</td>\n",
       "      <td>immediacy of crowding information</td>\n",
       "      <td>location selection</td>\n",
       "      <td>?</td>\n",
       "      <td>NaN</td>\n",
       "      <td>: Health anxiety</td>\n",
       "      <td>NaN</td>\n",
       "      <td>?</td>\n",
       "      <td>NaN</td>\n",
       "      <td>1.0</td>\n",
       "    </tr>\n",
       "    <tr>\n",
       "      <th>3</th>\n",
       "      <td>29</td>\n",
       "      <td>29_6477_6492</td>\n",
       "      <td>2</td>\n",
       "      <td>: Users would restrict their discourse with th...</td>\n",
       "      <td>NaN</td>\n",
       "      <td>NaN</td>\n",
       "      <td>NaN</td>\n",
       "      <td>NaN</td>\n",
       "      <td>NaN</td>\n",
       "      <td>NaN</td>\n",
       "      <td>NaN</td>\n",
       "      <td>NaN</td>\n",
       "      <td>NaN</td>\n",
       "    </tr>\n",
       "    <tr>\n",
       "      <th>4</th>\n",
       "      <td>29</td>\n",
       "      <td>29_6537_6551</td>\n",
       "      <td>3</td>\n",
       "      <td>: User queries may contain extragrammatical an...</td>\n",
       "      <td>NaN</td>\n",
       "      <td>NaN</td>\n",
       "      <td>NaN</td>\n",
       "      <td>NaN</td>\n",
       "      <td>NaN</td>\n",
       "      <td>NaN</td>\n",
       "      <td>NaN</td>\n",
       "      <td>NaN</td>\n",
       "      <td>NaN</td>\n",
       "    </tr>\n",
       "  </tbody>\n",
       "</table>\n",
       "</div>"
      ],
      "text/plain": [
       "   article_id   sentence_id hyp_number  \\\n",
       "0          19  19_4848_4894          6   \n",
       "1          28  28_4714_4736          2   \n",
       "2          28  28_5002_5017          3   \n",
       "3          29  29_6477_6492          2   \n",
       "4          29  29_6537_6551          3   \n",
       "\n",
       "                                            sentence  \\\n",
       "0  : attitudes direct relationship exists between...   \n",
       "1  : Users are more likely to select less crowded...   \n",
       "2  : Health anxiety moderates the effect of immed...   \n",
       "3  : Users would restrict their discourse with th...   \n",
       "4  : User queries may contain extragrammatical an...   \n",
       "\n",
       "                               cause  \\\n",
       "0              alienated individuals   \n",
       "1                   likely to select   \n",
       "2  immediacy of crowding information   \n",
       "3                                NaN   \n",
       "4                                NaN   \n",
       "\n",
       "                                              effect sign condition  \\\n",
       "0  amount of attention paid to information regard...    -       NaN   \n",
       "1  crowded locations when immediacy of crowding i...    -       NaN   \n",
       "2                                 location selection    ?       NaN   \n",
       "3                                                NaN  NaN       NaN   \n",
       "4                                                NaN  NaN       NaN   \n",
       "\n",
       "          moderator mediator interaction_sign interaction_details  pattern  \n",
       "0               NaN      NaN              NaN                 NaN      1.0  \n",
       "1               NaN      NaN              NaN                 NaN      5.0  \n",
       "2  : Health anxiety      NaN                ?                 NaN      1.0  \n",
       "3               NaN      NaN              NaN                 NaN      NaN  \n",
       "4               NaN      NaN              NaN                 NaN      NaN  "
      ]
     },
     "execution_count": 1,
     "metadata": {},
     "output_type": "execute_result"
    }
   ],
   "source": [
    "#import packages\n",
    "import pandas as pd\n",
    "import os\n",
    "\n",
    "#define source directory\n",
    "path='/home/muellerrol/causeminer2/reports/2021_11_09_103116_results'\n",
    "\n",
    "#filenames of hyps-related files\n",
    "hyps_file='hyps.csv'\n",
    "\n",
    "#load data\n",
    "hyps=pd.read_csv(os.path.join(path, hyps_file))\n",
    "\n",
    "hyps.head()"
   ]
  },
  {
   "cell_type": "code",
   "execution_count": 4,
   "metadata": {},
   "outputs": [
    {
     "name": "stdout",
     "output_type": "stream",
     "text": [
      "(3243, 13)\n"
     ]
    },
    {
     "data": {
      "text/plain": [
       "Index(['article_id', 'sentence_id', 'hyp_number', 'sentence', 'cause',\n",
       "       'effect', 'sign', 'condition', 'moderator', 'mediator',\n",
       "       'interaction_sign', 'interaction_details', 'pattern'],\n",
       "      dtype='object')"
      ]
     },
     "execution_count": 4,
     "metadata": {},
     "output_type": "execute_result"
    }
   ],
   "source": [
    "print(hyps.shape)\n",
    "hyps.columns"
   ]
  },
  {
   "cell_type": "code",
   "execution_count": 3,
   "metadata": {},
   "outputs": [
    {
     "data": {
      "text/plain": [
       "False    3243\n",
       "dtype: int64"
      ]
     },
     "execution_count": 3,
     "metadata": {},
     "output_type": "execute_result"
    }
   ],
   "source": [
    "hyps.duplicated(subset=[\"sentence_id\"]).value_counts()"
   ]
  },
  {
   "cell_type": "code",
   "execution_count": 5,
   "metadata": {},
   "outputs": [
    {
     "data": {
      "text/plain": [
       "True     2018\n",
       "False    1225\n",
       "dtype: int64"
      ]
     },
     "execution_count": 5,
     "metadata": {},
     "output_type": "execute_result"
    }
   ],
   "source": [
    "hyps.duplicated(subset=[\"article_id\"]).value_counts()"
   ]
  }
 ],
 "metadata": {
  "interpreter": {
   "hash": "390644c4b70b83482620604a264a508eb1179d5ce45745f92e02274b2a7257d8"
  },
  "kernelspec": {
   "display_name": "Python 3.9.8 64-bit ('thesis3.9': venv)",
   "language": "python",
   "name": "python3"
  },
  "language_info": {
   "codemirror_mode": {
    "name": "ipython",
    "version": 3
   },
   "file_extension": ".py",
   "mimetype": "text/x-python",
   "name": "python",
   "nbconvert_exporter": "python",
   "pygments_lexer": "ipython3",
   "version": "3.9.8"
  },
  "orig_nbformat": 4
 },
 "nbformat": 4,
 "nbformat_minor": 2
}
