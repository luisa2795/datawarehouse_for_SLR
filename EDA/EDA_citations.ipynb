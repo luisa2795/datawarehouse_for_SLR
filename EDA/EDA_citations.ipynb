{
 "cells": [
  {
   "cell_type": "code",
   "execution_count": 2,
   "metadata": {},
   "outputs": [],
   "source": [
    "#import packages\n",
    "import pandas as pd\n",
    "import os\n",
    "\n",
    "#define source directory\n",
    "path='/home/muellerrol/causeminer2/reports/2021_11_09_103116_results'\n",
    "\n",
    "#filenames of citation-related files\n",
    "cit_file='citations.csv'\n",
    "cit_per_paper_file='citations_per_paper.csv'"
   ]
  },
  {
   "cell_type": "code",
   "execution_count": 4,
   "metadata": {},
   "outputs": [
    {
     "data": {
      "text/html": [
       "<div>\n",
       "<style scoped>\n",
       "    .dataframe tbody tr th:only-of-type {\n",
       "        vertical-align: middle;\n",
       "    }\n",
       "\n",
       "    .dataframe tbody tr th {\n",
       "        vertical-align: top;\n",
       "    }\n",
       "\n",
       "    .dataframe thead th {\n",
       "        text-align: right;\n",
       "    }\n",
       "</style>\n",
       "<table border=\"1\" class=\"dataframe\">\n",
       "  <thead>\n",
       "    <tr style=\"text-align: right;\">\n",
       "      <th></th>\n",
       "      <th>article_id</th>\n",
       "      <th>paper_citekey</th>\n",
       "      <th>sentence_id</th>\n",
       "      <th>para_id</th>\n",
       "      <th>bibkey</th>\n",
       "      <th>reference_citekey</th>\n",
       "    </tr>\n",
       "  </thead>\n",
       "  <tbody>\n",
       "    <tr>\n",
       "      <th>0</th>\n",
       "      <td>1</td>\n",
       "      <td>(kevin)_yan_j_examining_interdependence_betwee...</td>\n",
       "      <td>1_331_363</td>\n",
       "      <td>1_3</td>\n",
       "      <td>1_b42</td>\n",
       "      <td>nambisan_s_designing_virtual_customer_environm...</td>\n",
       "    </tr>\n",
       "    <tr>\n",
       "      <th>1</th>\n",
       "      <td>1</td>\n",
       "      <td>(kevin)_yan_j_examining_interdependence_betwee...</td>\n",
       "      <td>1_363_427</td>\n",
       "      <td>1_3</td>\n",
       "      <td>1_b38</td>\n",
       "      <td>leidner_d_virtual_partnerships_in_support_of_e...</td>\n",
       "    </tr>\n",
       "    <tr>\n",
       "      <th>2</th>\n",
       "      <td>1</td>\n",
       "      <td>(kevin)_yan_j_examining_interdependence_betwee...</td>\n",
       "      <td>1_363_427</td>\n",
       "      <td>1_3</td>\n",
       "      <td>1_b42</td>\n",
       "      <td>nambisan_s_designing_virtual_customer_environm...</td>\n",
       "    </tr>\n",
       "    <tr>\n",
       "      <th>3</th>\n",
       "      <td>1</td>\n",
       "      <td>(kevin)_yan_j_examining_interdependence_betwee...</td>\n",
       "      <td>1_439_476</td>\n",
       "      <td>1_3</td>\n",
       "      <td>1_b63</td>\n",
       "      <td>yan_j_the_differential_innovativeness_outcomes...</td>\n",
       "    </tr>\n",
       "    <tr>\n",
       "      <th>4</th>\n",
       "      <td>1</td>\n",
       "      <td>(kevin)_yan_j_examining_interdependence_betwee...</td>\n",
       "      <td>1_476_511</td>\n",
       "      <td>1_3</td>\n",
       "      <td>1_b30</td>\n",
       "      <td>huang_p_platform_sponsor_investments_and_user_...</td>\n",
       "    </tr>\n",
       "  </tbody>\n",
       "</table>\n",
       "</div>"
      ],
      "text/plain": [
       "   article_id                                      paper_citekey sentence_id  \\\n",
       "0           1  (kevin)_yan_j_examining_interdependence_betwee...   1_331_363   \n",
       "1           1  (kevin)_yan_j_examining_interdependence_betwee...   1_363_427   \n",
       "2           1  (kevin)_yan_j_examining_interdependence_betwee...   1_363_427   \n",
       "3           1  (kevin)_yan_j_examining_interdependence_betwee...   1_439_476   \n",
       "4           1  (kevin)_yan_j_examining_interdependence_betwee...   1_476_511   \n",
       "\n",
       "  para_id bibkey                                  reference_citekey  \n",
       "0     1_3  1_b42  nambisan_s_designing_virtual_customer_environm...  \n",
       "1     1_3  1_b38  leidner_d_virtual_partnerships_in_support_of_e...  \n",
       "2     1_3  1_b42  nambisan_s_designing_virtual_customer_environm...  \n",
       "3     1_3  1_b63  yan_j_the_differential_innovativeness_outcomes...  \n",
       "4     1_3  1_b30  huang_p_platform_sponsor_investments_and_user_...  "
      ]
     },
     "execution_count": 4,
     "metadata": {},
     "output_type": "execute_result"
    }
   ],
   "source": [
    "#load data\n",
    "cit=pd.read_csv(os.path.join(path,cit_file))\n",
    "\n",
    "#load data\n",
    "cit_per_paper=pd.read_csv(os.path.join(path,cit_per_paper_file))\n",
    "\n",
    "cit.head()\n"
   ]
  },
  {
   "cell_type": "code",
   "execution_count": 5,
   "metadata": {},
   "outputs": [
    {
     "data": {
      "text/html": [
       "<div>\n",
       "<style scoped>\n",
       "    .dataframe tbody tr th:only-of-type {\n",
       "        vertical-align: middle;\n",
       "    }\n",
       "\n",
       "    .dataframe tbody tr th {\n",
       "        vertical-align: top;\n",
       "    }\n",
       "\n",
       "    .dataframe thead th {\n",
       "        text-align: right;\n",
       "    }\n",
       "</style>\n",
       "<table border=\"1\" class=\"dataframe\">\n",
       "  <thead>\n",
       "    <tr style=\"text-align: right;\">\n",
       "      <th></th>\n",
       "      <th>Unnamed: 0</th>\n",
       "      <th>article_id</th>\n",
       "      <th>paper_citekey</th>\n",
       "      <th>reference_citekey</th>\n",
       "    </tr>\n",
       "  </thead>\n",
       "  <tbody>\n",
       "    <tr>\n",
       "      <th>0</th>\n",
       "      <td>0</td>\n",
       "      <td>1</td>\n",
       "      <td>(kevin)_yan_j_examining_interdependence_betwee...</td>\n",
       "      <td>nambisan_s_designing_virtual_customer_environm...</td>\n",
       "    </tr>\n",
       "    <tr>\n",
       "      <th>1</th>\n",
       "      <td>1</td>\n",
       "      <td>1</td>\n",
       "      <td>(kevin)_yan_j_examining_interdependence_betwee...</td>\n",
       "      <td>leidner_d_virtual_partnerships_in_support_of_e...</td>\n",
       "    </tr>\n",
       "    <tr>\n",
       "      <th>2</th>\n",
       "      <td>2</td>\n",
       "      <td>1</td>\n",
       "      <td>(kevin)_yan_j_examining_interdependence_betwee...</td>\n",
       "      <td>nambisan_s_designing_virtual_customer_environm...</td>\n",
       "    </tr>\n",
       "    <tr>\n",
       "      <th>3</th>\n",
       "      <td>3</td>\n",
       "      <td>1</td>\n",
       "      <td>(kevin)_yan_j_examining_interdependence_betwee...</td>\n",
       "      <td>yan_j_the_differential_innovativeness_outcomes...</td>\n",
       "    </tr>\n",
       "    <tr>\n",
       "      <th>4</th>\n",
       "      <td>4</td>\n",
       "      <td>1</td>\n",
       "      <td>(kevin)_yan_j_examining_interdependence_betwee...</td>\n",
       "      <td>huang_p_platform_sponsor_investments_and_user_...</td>\n",
       "    </tr>\n",
       "  </tbody>\n",
       "</table>\n",
       "</div>"
      ],
      "text/plain": [
       "   Unnamed: 0  article_id                                      paper_citekey  \\\n",
       "0           0           1  (kevin)_yan_j_examining_interdependence_betwee...   \n",
       "1           1           1  (kevin)_yan_j_examining_interdependence_betwee...   \n",
       "2           2           1  (kevin)_yan_j_examining_interdependence_betwee...   \n",
       "3           3           1  (kevin)_yan_j_examining_interdependence_betwee...   \n",
       "4           4           1  (kevin)_yan_j_examining_interdependence_betwee...   \n",
       "\n",
       "                                   reference_citekey  \n",
       "0  nambisan_s_designing_virtual_customer_environm...  \n",
       "1  leidner_d_virtual_partnerships_in_support_of_e...  \n",
       "2  nambisan_s_designing_virtual_customer_environm...  \n",
       "3  yan_j_the_differential_innovativeness_outcomes...  \n",
       "4  huang_p_platform_sponsor_investments_and_user_...  "
      ]
     },
     "execution_count": 5,
     "metadata": {},
     "output_type": "execute_result"
    }
   ],
   "source": [
    "cit_per_paper.head()"
   ]
  },
  {
   "cell_type": "code",
   "execution_count": 7,
   "metadata": {},
   "outputs": [
    {
     "data": {
      "text/plain": [
       "False    362377\n",
       "True     290206\n",
       "dtype: int64"
      ]
     },
     "execution_count": 7,
     "metadata": {},
     "output_type": "execute_result"
    }
   ],
   "source": [
    "cit_per_paper.duplicated(subset=['article_id', 'reference_citekey']).value_counts()"
   ]
  },
  {
   "cell_type": "code",
   "execution_count": 6,
   "metadata": {},
   "outputs": [
    {
     "name": "stdout",
     "output_type": "stream",
     "text": [
      "Index(['article_id', 'paper_citekey', 'sentence_id', 'para_id', 'bibkey',\n",
      "       'reference_citekey'],\n",
      "      dtype='object')\n",
      "Index(['Unnamed: 0', 'article_id', 'paper_citekey', 'reference_citekey'], dtype='object')\n"
     ]
    }
   ],
   "source": [
    "print(cit.columns)\n",
    "print(cit_per_paper.columns)"
   ]
  },
  {
   "cell_type": "code",
   "execution_count": 7,
   "metadata": {},
   "outputs": [
    {
     "data": {
      "text/plain": [
       "(2578430, 3)"
      ]
     },
     "execution_count": 7,
     "metadata": {},
     "output_type": "execute_result"
    }
   ],
   "source": [
    "cit.shape"
   ]
  }
 ],
 "metadata": {
  "interpreter": {
   "hash": "2d5ffdfa1a127a7376b004f582d5e7665ed48c9a296dbbd489e369a4564db1c3"
  },
  "kernelspec": {
   "display_name": "Python 3.8.5 64-bit ('base': conda)",
   "language": "python",
   "name": "python3"
  },
  "language_info": {
   "codemirror_mode": {
    "name": "ipython",
    "version": 3
   },
   "file_extension": ".py",
   "mimetype": "text/x-python",
   "name": "python",
   "nbconvert_exporter": "python",
   "pygments_lexer": "ipython3",
   "version": "3.9.8"
  },
  "orig_nbformat": 4
 },
 "nbformat": 4,
 "nbformat_minor": 2
}
