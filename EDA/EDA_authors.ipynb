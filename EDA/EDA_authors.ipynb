{
 "cells": [
  {
   "cell_type": "code",
   "execution_count": 5,
   "metadata": {},
   "outputs": [
    {
     "data": {
      "text/html": [
       "<div>\n",
       "<style scoped>\n",
       "    .dataframe tbody tr th:only-of-type {\n",
       "        vertical-align: middle;\n",
       "    }\n",
       "\n",
       "    .dataframe tbody tr th {\n",
       "        vertical-align: top;\n",
       "    }\n",
       "\n",
       "    .dataframe thead th {\n",
       "        text-align: right;\n",
       "    }\n",
       "</style>\n",
       "<table border=\"1\" class=\"dataframe\">\n",
       "  <thead>\n",
       "    <tr style=\"text-align: right;\">\n",
       "      <th></th>\n",
       "      <th>article_id</th>\n",
       "      <th>author_position</th>\n",
       "      <th>fullname</th>\n",
       "      <th>surname</th>\n",
       "      <th>firstname</th>\n",
       "      <th>middlename</th>\n",
       "      <th>email</th>\n",
       "      <th>departments</th>\n",
       "      <th>institutions</th>\n",
       "      <th>countries</th>\n",
       "    </tr>\n",
       "  </thead>\n",
       "  <tbody>\n",
       "    <tr>\n",
       "      <th>0</th>\n",
       "      <td>2</td>\n",
       "      <td>1</td>\n",
       "      <td>Yan, Kevin</td>\n",
       "      <td>Yan</td>\n",
       "      <td>Kevin</td>\n",
       "      <td>NaN</td>\n",
       "      <td>NaN</td>\n",
       "      <td>NaN</td>\n",
       "      <td>Dalton State College</td>\n",
       "      <td>United States</td>\n",
       "    </tr>\n",
       "    <tr>\n",
       "      <th>1</th>\n",
       "      <td>2</td>\n",
       "      <td>2</td>\n",
       "      <td>Leidner, Dorothy E.</td>\n",
       "      <td>Leidner</td>\n",
       "      <td>Dorothy</td>\n",
       "      <td>E.</td>\n",
       "      <td>NaN</td>\n",
       "      <td>NaN</td>\n",
       "      <td>Baylor University and Lund University</td>\n",
       "      <td>United States</td>\n",
       "    </tr>\n",
       "    <tr>\n",
       "      <th>2</th>\n",
       "      <td>2</td>\n",
       "      <td>3</td>\n",
       "      <td>Zou, Weifei</td>\n",
       "      <td>Zou</td>\n",
       "      <td>Weifei</td>\n",
       "      <td>NaN</td>\n",
       "      <td>NaN</td>\n",
       "      <td>NaN</td>\n",
       "      <td>Deakin University</td>\n",
       "      <td>Australia</td>\n",
       "    </tr>\n",
       "    <tr>\n",
       "      <th>3</th>\n",
       "      <td>57</td>\n",
       "      <td>1</td>\n",
       "      <td>Wilson, F A.</td>\n",
       "      <td>Wilson</td>\n",
       "      <td>F</td>\n",
       "      <td>A.</td>\n",
       "      <td>NaN</td>\n",
       "      <td>The Information Technology Institute</td>\n",
       "      <td>University of Salford</td>\n",
       "      <td>UK</td>\n",
       "    </tr>\n",
       "    <tr>\n",
       "      <th>4</th>\n",
       "      <td>57</td>\n",
       "      <td>2</td>\n",
       "      <td>Galliers, R D.</td>\n",
       "      <td>Galliers</td>\n",
       "      <td>R</td>\n",
       "      <td>D.</td>\n",
       "      <td>NaN</td>\n",
       "      <td>The Information Technology Institute</td>\n",
       "      <td>University of Salford</td>\n",
       "      <td>UK</td>\n",
       "    </tr>\n",
       "  </tbody>\n",
       "</table>\n",
       "</div>"
      ],
      "text/plain": [
       "   article_id  author_position             fullname   surname firstname  \\\n",
       "0           2                1           Yan, Kevin       Yan     Kevin   \n",
       "1           2                2  Leidner, Dorothy E.   Leidner   Dorothy   \n",
       "2           2                3          Zou, Weifei       Zou    Weifei   \n",
       "3          57                1         Wilson, F A.    Wilson         F   \n",
       "4          57                2       Galliers, R D.  Galliers         R   \n",
       "\n",
       "  middlename email                           departments  \\\n",
       "0        NaN   NaN                                   NaN   \n",
       "1         E.   NaN                                   NaN   \n",
       "2        NaN   NaN                                   NaN   \n",
       "3         A.   NaN  The Information Technology Institute   \n",
       "4         D.   NaN  The Information Technology Institute   \n",
       "\n",
       "                            institutions      countries  \n",
       "0                   Dalton State College  United States  \n",
       "1  Baylor University and Lund University  United States  \n",
       "2                      Deakin University      Australia  \n",
       "3                  University of Salford             UK  \n",
       "4                  University of Salford             UK  "
      ]
     },
     "execution_count": 5,
     "metadata": {},
     "output_type": "execute_result"
    }
   ],
   "source": [
    "#import packeges\n",
    "import pandas as pd\n",
    "import numpy as np\n",
    "\n",
    "#load data\n",
    "auth=pd.read_csv('C:/Users/luisa/Documents/BIPM_2/DWH4SLR/reports/authors.csv')\n",
    "auth.head()"
   ]
  },
  {
   "cell_type": "code",
   "execution_count": 2,
   "metadata": {},
   "outputs": [
    {
     "data": {
      "text/plain": [
       "(130667, 10)"
      ]
     },
     "execution_count": 2,
     "metadata": {},
     "output_type": "execute_result"
    }
   ],
   "source": [
    "auth.shape"
   ]
  },
  {
   "cell_type": "code",
   "execution_count": 9,
   "metadata": {},
   "outputs": [
    {
     "name": "stdout",
     "output_type": "stream",
     "text": [
      "True     79760\n",
      "False    50907\n",
      "dtype: int64\n",
      "True     70758\n",
      "False    59909\n",
      "dtype: int64\n",
      "False    70584\n",
      "True     60083\n",
      "dtype: int64\n",
      "True     68902\n",
      "False    61765\n",
      "dtype: int64\n"
     ]
    }
   ],
   "source": [
    "#same sirname and firstname\n",
    "print(auth.duplicated(subset=[\"surname\", \"firstname\"]).value_counts())\n",
    "\n",
    "#same sirname, firstname and middlename\n",
    "print(auth.duplicated(subset=[\"surname\", \"firstname\", \"middlename\"]).value_counts())\n",
    "\n",
    "#same sirname, firstname, middlename and country\n",
    "print(auth.duplicated(subset=[\"surname\", \"firstname\", \"middlename\", \"countries\"]).value_counts())\n",
    "\n",
    "#same sirname, firstname and country\n",
    "print(auth.duplicated(subset=[\"surname\", \"firstname\", \"countries\"]).value_counts())\n"
   ]
  }
 ],
 "metadata": {
  "interpreter": {
   "hash": "d844650826fcf972af841405fe4d55b388940c2b43dcf90bc2c5349e23ea0678"
  },
  "kernelspec": {
   "display_name": "Python 3.9.7 64-bit ('thesis': conda)",
   "name": "python3"
  },
  "language_info": {
   "codemirror_mode": {
    "name": "ipython",
    "version": 3
   },
   "file_extension": ".py",
   "mimetype": "text/x-python",
   "name": "python",
   "nbconvert_exporter": "python",
   "pygments_lexer": "ipython3",
   "version": "3.8.5"
  },
  "orig_nbformat": 4
 },
 "nbformat": 4,
 "nbformat_minor": 2
}
