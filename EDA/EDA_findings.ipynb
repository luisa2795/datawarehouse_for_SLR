{
 "cells": [
  {
   "cell_type": "code",
   "execution_count": 1,
   "metadata": {},
   "outputs": [
    {
     "data": {
      "text/html": [
       "<div>\n",
       "<style scoped>\n",
       "    .dataframe tbody tr th:only-of-type {\n",
       "        vertical-align: middle;\n",
       "    }\n",
       "\n",
       "    .dataframe tbody tr th {\n",
       "        vertical-align: top;\n",
       "    }\n",
       "\n",
       "    .dataframe thead th {\n",
       "        text-align: right;\n",
       "    }\n",
       "</style>\n",
       "<table border=\"1\" class=\"dataframe\">\n",
       "  <thead>\n",
       "    <tr style=\"text-align: right;\">\n",
       "      <th></th>\n",
       "      <th>article_id</th>\n",
       "      <th>sentence_start</th>\n",
       "      <th>sentence_id</th>\n",
       "      <th>sentence</th>\n",
       "    </tr>\n",
       "  </thead>\n",
       "  <tbody>\n",
       "    <tr>\n",
       "      <th>0</th>\n",
       "      <td>1</td>\n",
       "      <td>1982</td>\n",
       "      <td>1_1982_2010</td>\n",
       "      <td>If alternative measures are available in the d...</td>\n",
       "    </tr>\n",
       "    <tr>\n",
       "      <th>1</th>\n",
       "      <td>1</td>\n",
       "      <td>2780</td>\n",
       "      <td>1_2780_2807</td>\n",
       "      <td>In these cases , the authors fail to describe ...</td>\n",
       "    </tr>\n",
       "    <tr>\n",
       "      <th>2</th>\n",
       "      <td>1</td>\n",
       "      <td>2836</td>\n",
       "      <td>1_2836_2842</td>\n",
       "      <td>We find that . . .</td>\n",
       "    </tr>\n",
       "    <tr>\n",
       "      <th>3</th>\n",
       "      <td>1</td>\n",
       "      <td>2914</td>\n",
       "      <td>1_2914_2954</td>\n",
       "      <td>We also suggest that authors report the result...</td>\n",
       "    </tr>\n",
       "    <tr>\n",
       "      <th>4</th>\n",
       "      <td>1</td>\n",
       "      <td>2957</td>\n",
       "      <td>1_2957_2970</td>\n",
       "      <td>In many studies , the results do not support a...</td>\n",
       "    </tr>\n",
       "  </tbody>\n",
       "</table>\n",
       "</div>"
      ],
      "text/plain": [
       "   article_id  sentence_start  sentence_id  \\\n",
       "0           1            1982  1_1982_2010   \n",
       "1           1            2780  1_2780_2807   \n",
       "2           1            2836  1_2836_2842   \n",
       "3           1            2914  1_2914_2954   \n",
       "4           1            2957  1_2957_2970   \n",
       "\n",
       "                                            sentence  \n",
       "0  If alternative measures are available in the d...  \n",
       "1  In these cases , the authors fail to describe ...  \n",
       "2                                 We find that . . .  \n",
       "3  We also suggest that authors report the result...  \n",
       "4  In many studies , the results do not support a...  "
      ]
     },
     "execution_count": 1,
     "metadata": {},
     "output_type": "execute_result"
    }
   ],
   "source": [
    "#import packages\n",
    "import pandas as pd\n",
    "\n",
    "#load data\n",
    "find=pd.read_csv('C:/Users/luisa/Documents/BIPM_2/DWH4SLR/reports/findings.csv')\n",
    "\n",
    "find.head()"
   ]
  },
  {
   "cell_type": "code",
   "execution_count": 4,
   "metadata": {},
   "outputs": [
    {
     "data": {
      "text/plain": [
       "'Plotting a significant interaction effect helps one visualize the finding and thus demonstrate whether the finding is consistent with the intended hypothesis .   START_CITE Aiken and West ( 1991'"
      ]
     },
     "execution_count": 4,
     "metadata": {},
     "output_type": "execute_result"
    }
   ],
   "source": [
    "find.sentence.iloc[6]"
   ]
  },
  {
   "cell_type": "code",
   "execution_count": 5,
   "metadata": {},
   "outputs": [
    {
     "data": {
      "text/plain": [
       "Index(['article_id', 'sentence_start', 'sentence_id', 'sentence'], dtype='object')"
      ]
     },
     "execution_count": 5,
     "metadata": {},
     "output_type": "execute_result"
    }
   ],
   "source": [
    "find.columns"
   ]
  },
  {
   "cell_type": "code",
   "execution_count": 7,
   "metadata": {},
   "outputs": [
    {
     "data": {
      "text/plain": [
       "'If alternative measures are available in the data set , it is often a good idea to report the findings obtained when those alternative measures were used .In these cases , the authors fail to describe what the results indicate with respect to the focal topic of the study in a clear manner .We find that . . .We also suggest that authors report the results associated with their hypotheses in order , beginning with the first hypothesis and continuing sequentially to the last one , unless some compelling reasons suggest that a different order is better .In many studies , the results do not support all the hypotheses .However , as one editor noted , \" If the results are contrary to expectations , I find authors will often try to \\' sweep them under the rug . \\'Plotting a significant interaction effect helps one visualize the finding and thus demonstrate whether the finding is consistent with the intended hypothesis .   START_CITE Aiken and West ( 1991However , in our experience as editors , we find that these sections often play a major , if not a critical , role in reviewers \\' evaluations of a manuscript .'"
      ]
     },
     "execution_count": 7,
     "metadata": {},
     "output_type": "execute_result"
    }
   ],
   "source": [
    "#concatenation or summarization of all strings belonging to one article could be interesting. Findings dimension?\n",
    "find.sentence[find.article_id==1].str.cat()"
   ]
  }
 ],
 "metadata": {
  "interpreter": {
   "hash": "2d5ffdfa1a127a7376b004f582d5e7665ed48c9a296dbbd489e369a4564db1c3"
  },
  "kernelspec": {
   "display_name": "Python 3.8.5 64-bit ('base': conda)",
   "language": "python",
   "name": "python3"
  },
  "language_info": {
   "codemirror_mode": {
    "name": "ipython",
    "version": 3
   },
   "file_extension": ".py",
   "mimetype": "text/x-python",
   "name": "python",
   "nbconvert_exporter": "python",
   "pygments_lexer": "ipython3",
   "version": "3.8.5"
  },
  "orig_nbformat": 4
 },
 "nbformat": 4,
 "nbformat_minor": 2
}
