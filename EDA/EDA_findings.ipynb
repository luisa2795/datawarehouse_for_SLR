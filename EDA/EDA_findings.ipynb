{
 "cells": [
  {
   "cell_type": "code",
   "execution_count": 1,
   "metadata": {},
   "outputs": [
    {
     "data": {
      "text/html": [
       "<div>\n",
       "<style scoped>\n",
       "    .dataframe tbody tr th:only-of-type {\n",
       "        vertical-align: middle;\n",
       "    }\n",
       "\n",
       "    .dataframe tbody tr th {\n",
       "        vertical-align: top;\n",
       "    }\n",
       "\n",
       "    .dataframe thead th {\n",
       "        text-align: right;\n",
       "    }\n",
       "</style>\n",
       "<table border=\"1\" class=\"dataframe\">\n",
       "  <thead>\n",
       "    <tr style=\"text-align: right;\">\n",
       "      <th></th>\n",
       "      <th>article_id</th>\n",
       "      <th>sentence_start</th>\n",
       "      <th>sentence_id</th>\n",
       "      <th>sentence</th>\n",
       "    </tr>\n",
       "  </thead>\n",
       "  <tbody>\n",
       "    <tr>\n",
       "      <th>0</th>\n",
       "      <td>1</td>\n",
       "      <td>173</td>\n",
       "      <td>1_173_211</td>\n",
       "      <td>Analyzing data from an online user community o...</td>\n",
       "    </tr>\n",
       "    <tr>\n",
       "      <th>1</th>\n",
       "      <td>1</td>\n",
       "      <td>1523</td>\n",
       "      <td>1_1523_1562</td>\n",
       "      <td>Overall , our results show that readership amo...</td>\n",
       "    </tr>\n",
       "    <tr>\n",
       "      <th>2</th>\n",
       "      <td>1</td>\n",
       "      <td>2343</td>\n",
       "      <td>1_2343_2375</td>\n",
       "      <td>Hence , this study contributes to the existing...</td>\n",
       "    </tr>\n",
       "    <tr>\n",
       "      <th>3</th>\n",
       "      <td>1</td>\n",
       "      <td>2912</td>\n",
       "      <td>1_2912_2943</td>\n",
       "      <td>Drawing from the social exchange perspective ,...</td>\n",
       "    </tr>\n",
       "    <tr>\n",
       "      <th>4</th>\n",
       "      <td>1</td>\n",
       "      <td>7426</td>\n",
       "      <td>1_7426_7444</td>\n",
       "      <td>Drawing upon this concept , we suggest that ze...</td>\n",
       "    </tr>\n",
       "  </tbody>\n",
       "</table>\n",
       "</div>"
      ],
      "text/plain": [
       "   article_id  sentence_start  sentence_id  \\\n",
       "0           1             173    1_173_211   \n",
       "1           1            1523  1_1523_1562   \n",
       "2           1            2343  1_2343_2375   \n",
       "3           1            2912  1_2912_2943   \n",
       "4           1            7426  1_7426_7444   \n",
       "\n",
       "                                            sentence  \n",
       "0  Analyzing data from an online user community o...  \n",
       "1  Overall , our results show that readership amo...  \n",
       "2  Hence , this study contributes to the existing...  \n",
       "3  Drawing from the social exchange perspective ,...  \n",
       "4  Drawing upon this concept , we suggest that ze...  "
      ]
     },
     "execution_count": 1,
     "metadata": {},
     "output_type": "execute_result"
    }
   ],
   "source": [
    "#import packages\n",
    "import pandas as pd\n",
    "import os\n",
    "\n",
    "#define source directory\n",
    "path='/home/muellerrol/causeminer2/reports/2021_11_09_103116_results'\n",
    "\n",
    "#filenames of findings-related files\n",
    "find_file='findings.csv'\n",
    "\n",
    "#load data\n",
    "find=pd.read_csv(os.path.join(path, find_file))\n",
    "\n",
    "find.head()"
   ]
  },
  {
   "cell_type": "code",
   "execution_count": 4,
   "metadata": {},
   "outputs": [
    {
     "data": {
      "text/plain": [
       "'Plotting a significant interaction effect helps one visualize the finding and thus demonstrate whether the finding is consistent with the intended hypothesis .   START_CITE Aiken and West ( 1991'"
      ]
     },
     "execution_count": 4,
     "metadata": {},
     "output_type": "execute_result"
    }
   ],
   "source": [
    "find.sentence.iloc[6]"
   ]
  },
  {
   "cell_type": "code",
   "execution_count": 2,
   "metadata": {},
   "outputs": [
    {
     "data": {
      "text/plain": [
       "Index(['article_id', 'sentence_start', 'sentence_id', 'sentence'], dtype='object')"
      ]
     },
     "execution_count": 2,
     "metadata": {},
     "output_type": "execute_result"
    }
   ],
   "source": [
    "find.columns"
   ]
  },
  {
   "cell_type": "code",
   "execution_count": 7,
   "metadata": {},
   "outputs": [
    {
     "data": {
      "text/plain": [
       "'If alternative measures are available in the data set , it is often a good idea to report the findings obtained when those alternative measures were used .In these cases , the authors fail to describe what the results indicate with respect to the focal topic of the study in a clear manner .We find that . . .We also suggest that authors report the results associated with their hypotheses in order , beginning with the first hypothesis and continuing sequentially to the last one , unless some compelling reasons suggest that a different order is better .In many studies , the results do not support all the hypotheses .However , as one editor noted , \" If the results are contrary to expectations , I find authors will often try to \\' sweep them under the rug . \\'Plotting a significant interaction effect helps one visualize the finding and thus demonstrate whether the finding is consistent with the intended hypothesis .   START_CITE Aiken and West ( 1991However , in our experience as editors , we find that these sections often play a major , if not a critical , role in reviewers \\' evaluations of a manuscript .'"
      ]
     },
     "execution_count": 7,
     "metadata": {},
     "output_type": "execute_result"
    }
   ],
   "source": [
    "#concatenation or summarization of all strings belonging to one article could be interesting. Findings dimension?\n",
    "find.sentence[find.article_id==1].str.cat()"
   ]
  }
 ],
 "metadata": {
  "interpreter": {
   "hash": "2d5ffdfa1a127a7376b004f582d5e7665ed48c9a296dbbd489e369a4564db1c3"
  },
  "kernelspec": {
   "display_name": "Python 3.8.5 64-bit ('base': conda)",
   "language": "python",
   "name": "python3"
  },
  "language_info": {
   "codemirror_mode": {
    "name": "ipython",
    "version": 3
   },
   "file_extension": ".py",
   "mimetype": "text/x-python",
   "name": "python",
   "nbconvert_exporter": "python",
   "pygments_lexer": "ipython3",
   "version": "3.9.8"
  },
  "orig_nbformat": 4
 },
 "nbformat": 4,
 "nbformat_minor": 2
}
