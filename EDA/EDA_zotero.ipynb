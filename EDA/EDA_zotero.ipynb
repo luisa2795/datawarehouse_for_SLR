{
 "cells": [
  {
   "cell_type": "code",
   "execution_count": 1,
   "metadata": {},
   "outputs": [
    {
     "name": "stdout",
     "output_type": "stream",
     "text": [
      "(50076, 13)\n",
      "Index(['Unnamed: 0', 'Author', 'Title', 'Publication Title', 'ISSN', 'DOI',\n",
      "       'Abstract Note', 'Pages', 'Issue', 'Volume', 'filename_xml',\n",
      "       'number_of_pages', 'is_editorial'],\n",
      "      dtype='object')\n"
     ]
    }
   ],
   "source": [
    "#import packages\n",
    "import pandas as pd\n",
    "import os\n",
    "\n",
    "#define source directory\n",
    "path='/home/muellerrol/causeminer2/reports/2021_11_09_103116_results'\n",
    "\n",
    "#filenames of zotero-related files\n",
    "zot_file='zotero.csv'\n",
    "\n",
    "#load data\n",
    "zot=pd.read_csv(os.path.join(path,zot_file))\n",
    "\n",
    "print(zot.shape)\n",
    "print(zot.columns)"
   ]
  },
  {
   "cell_type": "code",
   "execution_count": 3,
   "metadata": {},
   "outputs": [
    {
     "data": {
      "text/html": [
       "<div>\n",
       "<style scoped>\n",
       "    .dataframe tbody tr th:only-of-type {\n",
       "        vertical-align: middle;\n",
       "    }\n",
       "\n",
       "    .dataframe tbody tr th {\n",
       "        vertical-align: top;\n",
       "    }\n",
       "\n",
       "    .dataframe thead th {\n",
       "        text-align: right;\n",
       "    }\n",
       "</style>\n",
       "<table border=\"1\" class=\"dataframe\">\n",
       "  <thead>\n",
       "    <tr style=\"text-align: right;\">\n",
       "      <th></th>\n",
       "      <th>Unnamed: 0</th>\n",
       "      <th>Author</th>\n",
       "      <th>Title</th>\n",
       "      <th>Publication Title</th>\n",
       "      <th>ISSN</th>\n",
       "      <th>DOI</th>\n",
       "      <th>Abstract Note</th>\n",
       "      <th>Pages</th>\n",
       "      <th>Issue</th>\n",
       "      <th>Volume</th>\n",
       "      <th>filename_xml</th>\n",
       "      <th>number_of_pages</th>\n",
       "      <th>is_editorial</th>\n",
       "    </tr>\n",
       "  </thead>\n",
       "  <tbody>\n",
       "    <tr>\n",
       "      <th>0</th>\n",
       "      <td>0</td>\n",
       "      <td>Ngwenyama, Ojelanki; Nielsen, Peter Axel</td>\n",
       "      <td>Using organizational influence processes to ov...</td>\n",
       "      <td>European Journal of Information Systems</td>\n",
       "      <td>0960-085X</td>\n",
       "      <td>10.1057/ejis.2012.56</td>\n",
       "      <td>A fundamental tenet of the information systems...</td>\n",
       "      <td>205-222</td>\n",
       "      <td>2</td>\n",
       "      <td>23</td>\n",
       "      <td>NgwenyamaO#NielsenP_2014_Using organizational ...</td>\n",
       "      <td>18</td>\n",
       "      <td>False</td>\n",
       "    </tr>\n",
       "    <tr>\n",
       "      <th>1</th>\n",
       "      <td>1</td>\n",
       "      <td>Turel, Ofir; Bart, Chris</td>\n",
       "      <td>Board-level IT governance and organizational p...</td>\n",
       "      <td>European Journal of Information Systems</td>\n",
       "      <td>0960-085X</td>\n",
       "      <td>10.1057/ejis.2012.61</td>\n",
       "      <td>Research on the strategic management of Inform...</td>\n",
       "      <td>223-239</td>\n",
       "      <td>2</td>\n",
       "      <td>23</td>\n",
       "      <td>TurelO#BartC_2014_Board-level IT governance an...</td>\n",
       "      <td>17</td>\n",
       "      <td>False</td>\n",
       "    </tr>\n",
       "    <tr>\n",
       "      <th>2</th>\n",
       "      <td>2</td>\n",
       "      <td>Dinev, Tamara</td>\n",
       "      <td>Why would we care about privacy?</td>\n",
       "      <td>European Journal of Information Systems</td>\n",
       "      <td>0960-085X</td>\n",
       "      <td>10.1057/ejis.2014.1</td>\n",
       "      <td>The European Journal of Information Systems pr...</td>\n",
       "      <td>97-102</td>\n",
       "      <td>2</td>\n",
       "      <td>23</td>\n",
       "      <td>DinevT_2014_Why would we care about privacy_Eu...</td>\n",
       "      <td>6</td>\n",
       "      <td>False</td>\n",
       "    </tr>\n",
       "    <tr>\n",
       "      <th>3</th>\n",
       "      <td>3</td>\n",
       "      <td>Oetzel, Marie Caroline; Spiekermann, Sarah</td>\n",
       "      <td>A systematic methodology for privacy impact as...</td>\n",
       "      <td>European Journal of Information Systems</td>\n",
       "      <td>0960-085X</td>\n",
       "      <td>10.1057/ejis.2013.18</td>\n",
       "      <td>For companies that develop and operate IT appl...</td>\n",
       "      <td>126-150</td>\n",
       "      <td>2</td>\n",
       "      <td>23</td>\n",
       "      <td>OetzelM#SpiekermannS_2014_A systematic methodo...</td>\n",
       "      <td>25</td>\n",
       "      <td>False</td>\n",
       "    </tr>\n",
       "    <tr>\n",
       "      <th>4</th>\n",
       "      <td>4</td>\n",
       "      <td>Kumar, Ram L.; Stylianou, Antonis C.</td>\n",
       "      <td>A process model for analyzing and managing fle...</td>\n",
       "      <td>European Journal of Information Systems</td>\n",
       "      <td>0960-085X</td>\n",
       "      <td>10.1057/ejis.2012.53</td>\n",
       "      <td>Competitive pressures are forcing organization...</td>\n",
       "      <td>151-184</td>\n",
       "      <td>2</td>\n",
       "      <td>23</td>\n",
       "      <td>KumarR#StylianouA_2014_A process model for ana...</td>\n",
       "      <td>34</td>\n",
       "      <td>False</td>\n",
       "    </tr>\n",
       "  </tbody>\n",
       "</table>\n",
       "</div>"
      ],
      "text/plain": [
       "   Unnamed: 0                                      Author  \\\n",
       "0           0    Ngwenyama, Ojelanki; Nielsen, Peter Axel   \n",
       "1           1                    Turel, Ofir; Bart, Chris   \n",
       "2           2                               Dinev, Tamara   \n",
       "3           3  Oetzel, Marie Caroline; Spiekermann, Sarah   \n",
       "4           4        Kumar, Ram L.; Stylianou, Antonis C.   \n",
       "\n",
       "                                               Title  \\\n",
       "0  Using organizational influence processes to ov...   \n",
       "1  Board-level IT governance and organizational p...   \n",
       "2                   Why would we care about privacy?   \n",
       "3  A systematic methodology for privacy impact as...   \n",
       "4  A process model for analyzing and managing fle...   \n",
       "\n",
       "                         Publication Title       ISSN                   DOI  \\\n",
       "0  European Journal of Information Systems  0960-085X  10.1057/ejis.2012.56   \n",
       "1  European Journal of Information Systems  0960-085X  10.1057/ejis.2012.61   \n",
       "2  European Journal of Information Systems  0960-085X   10.1057/ejis.2014.1   \n",
       "3  European Journal of Information Systems  0960-085X  10.1057/ejis.2013.18   \n",
       "4  European Journal of Information Systems  0960-085X  10.1057/ejis.2012.53   \n",
       "\n",
       "                                       Abstract Note    Pages Issue Volume  \\\n",
       "0  A fundamental tenet of the information systems...  205-222     2     23   \n",
       "1  Research on the strategic management of Inform...  223-239     2     23   \n",
       "2  The European Journal of Information Systems pr...   97-102     2     23   \n",
       "3  For companies that develop and operate IT appl...  126-150     2     23   \n",
       "4  Competitive pressures are forcing organization...  151-184     2     23   \n",
       "\n",
       "                                        filename_xml  number_of_pages  \\\n",
       "0  NgwenyamaO#NielsenP_2014_Using organizational ...               18   \n",
       "1  TurelO#BartC_2014_Board-level IT governance an...               17   \n",
       "2  DinevT_2014_Why would we care about privacy_Eu...                6   \n",
       "3  OetzelM#SpiekermannS_2014_A systematic methodo...               25   \n",
       "4  KumarR#StylianouA_2014_A process model for ana...               34   \n",
       "\n",
       "   is_editorial  \n",
       "0         False  \n",
       "1         False  \n",
       "2         False  \n",
       "3         False  \n",
       "4         False  "
      ]
     },
     "execution_count": 3,
     "metadata": {},
     "output_type": "execute_result"
    }
   ],
   "source": [
    "zot.head()"
   ]
  },
  {
   "cell_type": "code",
   "execution_count": 8,
   "metadata": {},
   "outputs": [
    {
     "name": "stdout",
     "output_type": "stream",
     "text": [
      "True     26336\n",
      "False    23740\n",
      "dtype: int64\n"
     ]
    },
    {
     "data": {
      "text/plain": [
       "True     26142\n",
       "False    23934\n",
       "Name: DOI, dtype: int64"
      ]
     },
     "execution_count": 8,
     "metadata": {},
     "output_type": "execute_result"
    }
   ],
   "source": [
    "print(zot.duplicated(subset=['DOI']).value_counts())\n",
    "zot.DOI.isna().value_counts()"
   ]
  },
  {
   "cell_type": "code",
   "execution_count": 10,
   "metadata": {},
   "outputs": [
    {
     "name": "stdout",
     "output_type": "stream",
     "text": [
      "True     49879\n",
      "False      197\n",
      "dtype: int64\n"
     ]
    },
    {
     "data": {
      "text/plain": [
       "True     25344\n",
       "False    24732\n",
       "Name: ISSN, dtype: int64"
      ]
     },
     "execution_count": 10,
     "metadata": {},
     "output_type": "execute_result"
    }
   ],
   "source": [
    "print(zot.duplicated(subset=['ISSN']).value_counts())\n",
    "zot.ISSN.isna().value_counts()"
   ]
  },
  {
   "cell_type": "code",
   "execution_count": 11,
   "metadata": {},
   "outputs": [
    {
     "name": "stdout",
     "output_type": "stream",
     "text": [
      "False    48458\n",
      "True      1618\n",
      "dtype: int64\n"
     ]
    },
    {
     "data": {
      "text/plain": [
       "False    50076\n",
       "Name: Title, dtype: int64"
      ]
     },
     "execution_count": 11,
     "metadata": {},
     "output_type": "execute_result"
    }
   ],
   "source": [
    "print(zot.duplicated(subset=['Title']).value_counts())\n",
    "zot.Title.isna().value_counts()"
   ]
  }
 ],
 "metadata": {
  "interpreter": {
   "hash": "390644c4b70b83482620604a264a508eb1179d5ce45745f92e02274b2a7257d8"
  },
  "kernelspec": {
   "display_name": "Python 3.9.8 64-bit ('thesis3.9': venv)",
   "language": "python",
   "name": "python3"
  },
  "language_info": {
   "codemirror_mode": {
    "name": "ipython",
    "version": 3
   },
   "file_extension": ".py",
   "mimetype": "text/x-python",
   "name": "python",
   "nbconvert_exporter": "python",
   "pygments_lexer": "ipython3",
   "version": "3.9.8"
  },
  "orig_nbformat": 4
 },
 "nbformat": 4,
 "nbformat_minor": 2
}
