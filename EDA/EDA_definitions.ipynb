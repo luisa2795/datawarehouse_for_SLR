{
 "cells": [
  {
   "cell_type": "code",
   "execution_count": 1,
   "metadata": {},
   "outputs": [
    {
     "data": {
      "text/html": [
       "<div>\n",
       "<style scoped>\n",
       "    .dataframe tbody tr th:only-of-type {\n",
       "        vertical-align: middle;\n",
       "    }\n",
       "\n",
       "    .dataframe tbody tr th {\n",
       "        vertical-align: top;\n",
       "    }\n",
       "\n",
       "    .dataframe thead th {\n",
       "        text-align: right;\n",
       "    }\n",
       "</style>\n",
       "<table border=\"1\" class=\"dataframe\">\n",
       "  <thead>\n",
       "    <tr style=\"text-align: right;\">\n",
       "      <th></th>\n",
       "      <th>article_id</th>\n",
       "      <th>sentence_start</th>\n",
       "      <th>sentence_id</th>\n",
       "      <th>sentence</th>\n",
       "    </tr>\n",
       "  </thead>\n",
       "  <tbody>\n",
       "    <tr>\n",
       "      <th>0</th>\n",
       "      <td>2</td>\n",
       "      <td>525</td>\n",
       "      <td>2_525_542</td>\n",
       "      <td>Well - defined processes and a well - defined ...</td>\n",
       "    </tr>\n",
       "    <tr>\n",
       "      <th>1</th>\n",
       "      <td>2</td>\n",
       "      <td>906</td>\n",
       "      <td>2_906_942</td>\n",
       "      <td>Under the rational choice model a criteria of ...</td>\n",
       "    </tr>\n",
       "    <tr>\n",
       "      <th>2</th>\n",
       "      <td>2</td>\n",
       "      <td>2074</td>\n",
       "      <td>2_2074_2111</td>\n",
       "      <td>The key decisions made by a manager , particul...</td>\n",
       "    </tr>\n",
       "    <tr>\n",
       "      <th>3</th>\n",
       "      <td>2</td>\n",
       "      <td>2316</td>\n",
       "      <td>2_2316_2360</td>\n",
       "      <td>The difficulty in defining a system 's objecti...</td>\n",
       "    </tr>\n",
       "    <tr>\n",
       "      <th>4</th>\n",
       "      <td>2</td>\n",
       "      <td>3618</td>\n",
       "      <td>2_3618_3639</td>\n",
       "      <td>This is not surprising , since only in these r...</td>\n",
       "    </tr>\n",
       "  </tbody>\n",
       "</table>\n",
       "</div>"
      ],
      "text/plain": [
       "   article_id  sentence_start  sentence_id  \\\n",
       "0           2             525    2_525_542   \n",
       "1           2             906    2_906_942   \n",
       "2           2            2074  2_2074_2111   \n",
       "3           2            2316  2_2316_2360   \n",
       "4           2            3618  2_3618_3639   \n",
       "\n",
       "                                            sentence  \n",
       "0  Well - defined processes and a well - defined ...  \n",
       "1  Under the rational choice model a criteria of ...  \n",
       "2  The key decisions made by a manager , particul...  \n",
       "3  The difficulty in defining a system 's objecti...  \n",
       "4  This is not surprising , since only in these r...  "
      ]
     },
     "execution_count": 1,
     "metadata": {},
     "output_type": "execute_result"
    }
   ],
   "source": [
    "#import packages\n",
    "import pandas as pd\n",
    "import os\n",
    "\n",
    "#define source directory\n",
    "path='/home/muellerrol/causeminer2/reports/2021_11_09_103116_results'\n",
    "\n",
    "#filenames of definitions-related files\n",
    "defi_file='definitions.csv'\n",
    "\n",
    "#load data\n",
    "defi=pd.read_csv(os.path.join(path, defi_file))\n",
    "\n",
    "defi.head()"
   ]
  },
  {
   "cell_type": "code",
   "execution_count": 4,
   "metadata": {},
   "outputs": [
    {
     "data": {
      "text/plain": [
       "False    36174\n",
       "dtype: int64"
      ]
     },
     "execution_count": 4,
     "metadata": {},
     "output_type": "execute_result"
    }
   ],
   "source": [
    "defi.duplicated(subset=[\"sentence_id\"]).value_counts()"
   ]
  },
  {
   "cell_type": "code",
   "execution_count": 2,
   "metadata": {},
   "outputs": [
    {
     "data": {
      "text/plain": [
       "Index(['article_id', 'sentence_start', 'sentence_id', 'sentence'], dtype='object')"
      ]
     },
     "execution_count": 2,
     "metadata": {},
     "output_type": "execute_result"
    }
   ],
   "source": [
    "defi.columns"
   ]
  }
 ],
 "metadata": {
  "interpreter": {
   "hash": "2d5ffdfa1a127a7376b004f582d5e7665ed48c9a296dbbd489e369a4564db1c3"
  },
  "kernelspec": {
   "display_name": "Python 3.8.5 64-bit ('base': conda)",
   "language": "python",
   "name": "python3"
  },
  "language_info": {
   "codemirror_mode": {
    "name": "ipython",
    "version": 3
   },
   "file_extension": ".py",
   "mimetype": "text/x-python",
   "name": "python",
   "nbconvert_exporter": "python",
   "pygments_lexer": "ipython3",
   "version": "3.9.8"
  },
  "orig_nbformat": 4
 },
 "nbformat": 4,
 "nbformat_minor": 2
}
