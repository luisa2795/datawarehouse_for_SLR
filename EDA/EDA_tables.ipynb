{
 "cells": [
  {
   "cell_type": "code",
   "execution_count": 1,
   "metadata": {},
   "outputs": [
    {
     "name": "stdout",
     "output_type": "stream",
     "text": [
      "(55979, 6)\n",
      "Index(['article_id', 'caption', 'figure_type', 'figure_head',\n",
      "       'potential_constructs', 'choose'],\n",
      "      dtype='object')\n"
     ]
    }
   ],
   "source": [
    "#import packages\n",
    "import pandas as pd\n",
    "import os\n",
    "\n",
    "#define source directory\n",
    "path='/home/muellerrol/causeminer2/reports/2021_11_09_103116_results'\n",
    "\n",
    "#filenames of tables-related files\n",
    "tab_file='tables.csv'\n",
    "\n",
    "#load data\n",
    "tab=pd.read_csv(os.path.join(path,tab_file))\n",
    "\n",
    "print(tab.shape)\n",
    "print(tab.columns)"
   ]
  },
  {
   "cell_type": "code",
   "execution_count": 2,
   "metadata": {},
   "outputs": [
    {
     "data": {
      "text/html": [
       "<div>\n",
       "<style scoped>\n",
       "    .dataframe tbody tr th:only-of-type {\n",
       "        vertical-align: middle;\n",
       "    }\n",
       "\n",
       "    .dataframe tbody tr th {\n",
       "        vertical-align: top;\n",
       "    }\n",
       "\n",
       "    .dataframe thead th {\n",
       "        text-align: right;\n",
       "    }\n",
       "</style>\n",
       "<table border=\"1\" class=\"dataframe\">\n",
       "  <thead>\n",
       "    <tr style=\"text-align: right;\">\n",
       "      <th></th>\n",
       "      <th>article_id</th>\n",
       "      <th>caption</th>\n",
       "      <th>figure_type</th>\n",
       "      <th>figure_head</th>\n",
       "      <th>potential_constructs</th>\n",
       "      <th>choose</th>\n",
       "    </tr>\n",
       "  </thead>\n",
       "  <tbody>\n",
       "    <tr>\n",
       "      <th>0</th>\n",
       "      <td>1</td>\n",
       "      <td>Conceptual Model.</td>\n",
       "      <td>NaN</td>\n",
       "      <td>Fig. 1 .</td>\n",
       "      <td>[]</td>\n",
       "      <td>0</td>\n",
       "    </tr>\n",
       "    <tr>\n",
       "      <th>1</th>\n",
       "      <td>1</td>\n",
       "      <td>in parentheses. *** Sig. at p &lt; 0.001; ** Sig....</td>\n",
       "      <td>NaN</td>\n",
       "      <td>NaN</td>\n",
       "      <td>[]</td>\n",
       "      <td>0</td>\n",
       "    </tr>\n",
       "    <tr>\n",
       "      <th>2</th>\n",
       "      <td>1</td>\n",
       "      <td>Different Forms of Online User Communities.</td>\n",
       "      <td>table</td>\n",
       "      <td>Table 1</td>\n",
       "      <td>['Firm-hosted online', 'Answering product rela...</td>\n",
       "      <td>0</td>\n",
       "    </tr>\n",
       "    <tr>\n",
       "      <th>3</th>\n",
       "      <td>1</td>\n",
       "      <td>Demographic Characteristics of the Employees (...</td>\n",
       "      <td>table</td>\n",
       "      <td>Table 2</td>\n",
       "      <td>['Gender']</td>\n",
       "      <td>0</td>\n",
       "    </tr>\n",
       "    <tr>\n",
       "      <th>4</th>\n",
       "      <td>1</td>\n",
       "      <td>Variable Descriptions and Measures.</td>\n",
       "      <td>table</td>\n",
       "      <td>Table 3</td>\n",
       "      <td>['Variable', 'Users', 'Source of Measurement D...</td>\n",
       "      <td>0</td>\n",
       "    </tr>\n",
       "  </tbody>\n",
       "</table>\n",
       "</div>"
      ],
      "text/plain": [
       "   article_id                                            caption figure_type  \\\n",
       "0           1                                  Conceptual Model.         NaN   \n",
       "1           1  in parentheses. *** Sig. at p < 0.001; ** Sig....         NaN   \n",
       "2           1        Different Forms of Online User Communities.       table   \n",
       "3           1  Demographic Characteristics of the Employees (...       table   \n",
       "4           1                Variable Descriptions and Measures.       table   \n",
       "\n",
       "  figure_head                               potential_constructs  choose  \n",
       "0    Fig. 1 .                                                 []       0  \n",
       "1         NaN                                                 []       0  \n",
       "2     Table 1  ['Firm-hosted online', 'Answering product rela...       0  \n",
       "3     Table 2                                         ['Gender']       0  \n",
       "4     Table 3  ['Variable', 'Users', 'Source of Measurement D...       0  "
      ]
     },
     "execution_count": 2,
     "metadata": {},
     "output_type": "execute_result"
    }
   ],
   "source": [
    "tab.head()"
   ]
  }
 ],
 "metadata": {
  "interpreter": {
   "hash": "390644c4b70b83482620604a264a508eb1179d5ce45745f92e02274b2a7257d8"
  },
  "kernelspec": {
   "display_name": "Python 3.9.8 64-bit ('thesis3.9': venv)",
   "language": "python",
   "name": "python3"
  },
  "language_info": {
   "codemirror_mode": {
    "name": "ipython",
    "version": 3
   },
   "file_extension": ".py",
   "mimetype": "text/x-python",
   "name": "python",
   "nbconvert_exporter": "python",
   "pygments_lexer": "ipython3",
   "version": "3.9.8"
  },
  "orig_nbformat": 4
 },
 "nbformat": 4,
 "nbformat_minor": 2
}
