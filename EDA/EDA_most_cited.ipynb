{
 "cells": [
  {
   "cell_type": "code",
   "execution_count": 3,
   "metadata": {},
   "outputs": [
    {
     "name": "stdout",
     "output_type": "stream",
     "text": [
      "(322007, 3)\n",
      "Index(['ent_id', 'reference_citekey', 'count'], dtype='object')\n",
      "(322034, 10)\n",
      "Index(['Unnamed: 0', 'ent_id', 'reference_citekey', 'count', 'uid',\n",
      "       'first_author', 'title', 'year', 'journal',\n",
      "       'count_all_citation_in_corpus'],\n",
      "      dtype='object')\n",
      "(322055, 19)\n",
      "Index(['ent_id', 'reference_citekey', 'count', 'uid', 'first_author', 'title',\n",
      "       'year', 'journal', 'count_all_citation_in_corpus', 'ent_path', 'label',\n",
      "       'level_1', 'level_2', 'level_3', 'level_4', 'level_5', 'level_6',\n",
      "       'level_7', 'level_8'],\n",
      "      dtype='object')\n"
     ]
    },
    {
     "name": "stderr",
     "output_type": "stream",
     "text": [
      "/home/luisa_waack/virtualenvs/thesis3.9/lib/python3.9/site-packages/IPython/core/interactiveshell.py:3444: DtypeWarning: Columns (18) have mixed types.Specify dtype option on import or set low_memory=False.\n",
      "  exec(code_obj, self.user_global_ns, self.user_ns)\n"
     ]
    }
   ],
   "source": [
    "#import packages\n",
    "import pandas as pd\n",
    "import os\n",
    "\n",
    "#define source directory\n",
    "path='/home/muellerrol/causeminer2/reports/2021_11_09_103116_results'\n",
    "\n",
    "#filenames of most_cited-related files\n",
    "mc_file='most_cited_paper_per_entity.csv'\n",
    "mc_info_file='most_cited_paper_per_entity_info.csv'\n",
    "mc_hier_file='most_cited_paper_per_entity_full_info_with_hierarchy.csv'\n",
    "\n",
    "#load data\n",
    "mc=pd.read_csv(os.path.join(path,mc_file))\n",
    "mc_info=pd.read_csv(os.path.join(path,mc_info_file))\n",
    "mc_hier=pd.read_csv(os.path.join(path,mc_hier_file))\n",
    "\n",
    "print(mc.shape)\n",
    "print(mc.columns)\n",
    "\n",
    "print(mc_info.shape)\n",
    "print(mc_info.columns)\n",
    "\n",
    "print(mc_hier.shape)\n",
    "print(mc_hier.columns)"
   ]
  },
  {
   "cell_type": "code",
   "execution_count": 2,
   "metadata": {},
   "outputs": [
    {
     "data": {
      "text/html": [
       "<div>\n",
       "<style scoped>\n",
       "    .dataframe tbody tr th:only-of-type {\n",
       "        vertical-align: middle;\n",
       "    }\n",
       "\n",
       "    .dataframe tbody tr th {\n",
       "        vertical-align: top;\n",
       "    }\n",
       "\n",
       "    .dataframe thead th {\n",
       "        text-align: right;\n",
       "    }\n",
       "</style>\n",
       "<table border=\"1\" class=\"dataframe\">\n",
       "  <thead>\n",
       "    <tr style=\"text-align: right;\">\n",
       "      <th></th>\n",
       "      <th>ent_id</th>\n",
       "      <th>reference_citekey</th>\n",
       "      <th>count</th>\n",
       "    </tr>\n",
       "  </thead>\n",
       "  <tbody>\n",
       "    <tr>\n",
       "      <th>0</th>\n",
       "      <td>ACM digital library</td>\n",
       "      <td>hunter_j__2004_book</td>\n",
       "      <td>1</td>\n",
       "    </tr>\n",
       "    <tr>\n",
       "      <th>1</th>\n",
       "      <td>ACM digital library</td>\n",
       "      <td>webster_j_analyzing_the_past_to_prepare_for_th...</td>\n",
       "      <td>1</td>\n",
       "    </tr>\n",
       "    <tr>\n",
       "      <th>2</th>\n",
       "      <td>AIS eLibrary</td>\n",
       "      <td>nischak_f_unraveling_the_interaction_of_inform...</td>\n",
       "      <td>1</td>\n",
       "    </tr>\n",
       "    <tr>\n",
       "      <th>3</th>\n",
       "      <td>AIS eLibrary</td>\n",
       "      <td>rosenthal_r_the_file_drawer_problem_and_tolera...</td>\n",
       "      <td>1</td>\n",
       "    </tr>\n",
       "    <tr>\n",
       "      <th>4</th>\n",
       "      <td>AIS senior scholars' basket of journals</td>\n",
       "      <td>lowry_p_global_journal_prestige_and_supporting...</td>\n",
       "      <td>2</td>\n",
       "    </tr>\n",
       "  </tbody>\n",
       "</table>\n",
       "</div>"
      ],
      "text/plain": [
       "                                    ent_id  \\\n",
       "0                      ACM digital library   \n",
       "1                      ACM digital library   \n",
       "2                             AIS eLibrary   \n",
       "3                             AIS eLibrary   \n",
       "4  AIS senior scholars' basket of journals   \n",
       "\n",
       "                                   reference_citekey  count  \n",
       "0                                hunter_j__2004_book      1  \n",
       "1  webster_j_analyzing_the_past_to_prepare_for_th...      1  \n",
       "2  nischak_f_unraveling_the_interaction_of_inform...      1  \n",
       "3  rosenthal_r_the_file_drawer_problem_and_tolera...      1  \n",
       "4  lowry_p_global_journal_prestige_and_supporting...      2  "
      ]
     },
     "execution_count": 2,
     "metadata": {},
     "output_type": "execute_result"
    }
   ],
   "source": [
    "mc.head()"
   ]
  }
 ],
 "metadata": {
  "interpreter": {
   "hash": "390644c4b70b83482620604a264a508eb1179d5ce45745f92e02274b2a7257d8"
  },
  "kernelspec": {
   "display_name": "Python 3.9.8 64-bit ('thesis3.9': venv)",
   "language": "python",
   "name": "python3"
  },
  "language_info": {
   "codemirror_mode": {
    "name": "ipython",
    "version": 3
   },
   "file_extension": ".py",
   "mimetype": "text/x-python",
   "name": "python",
   "nbconvert_exporter": "python",
   "pygments_lexer": "ipython3",
   "version": "3.9.8"
  },
  "orig_nbformat": 4
 },
 "nbformat": 4,
 "nbformat_minor": 2
}
