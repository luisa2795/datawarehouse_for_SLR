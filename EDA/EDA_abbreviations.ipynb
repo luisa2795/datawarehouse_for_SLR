{
 "cells": [
  {
   "cell_type": "code",
   "execution_count": 1,
   "metadata": {},
   "outputs": [],
   "source": [
    "#import packages\n",
    "import pandas as pd\n",
    "import os\n",
    "\n",
    "#define source directory\n",
    "path='/home/muellerrol/causeminer2/reports/2021_11_09_103116_results'\n",
    "\n",
    "#filenames of entity-related files\n",
    "abbreviations_file='abbreviations.csv'\n"
   ]
  },
  {
   "cell_type": "code",
   "execution_count": 2,
   "metadata": {},
   "outputs": [
    {
     "data": {
      "text/html": [
       "<div>\n",
       "<style scoped>\n",
       "    .dataframe tbody tr th:only-of-type {\n",
       "        vertical-align: middle;\n",
       "    }\n",
       "\n",
       "    .dataframe tbody tr th {\n",
       "        vertical-align: top;\n",
       "    }\n",
       "\n",
       "    .dataframe thead th {\n",
       "        text-align: right;\n",
       "    }\n",
       "</style>\n",
       "<table border=\"1\" class=\"dataframe\">\n",
       "  <thead>\n",
       "    <tr style=\"text-align: right;\">\n",
       "      <th></th>\n",
       "      <th>article_id</th>\n",
       "      <th>sentence_start</th>\n",
       "      <th>sentence_id</th>\n",
       "      <th>abbreviation</th>\n",
       "      <th>definition</th>\n",
       "      <th>sentence</th>\n",
       "      <th>start</th>\n",
       "      <th>end</th>\n",
       "    </tr>\n",
       "  </thead>\n",
       "  <tbody>\n",
       "    <tr>\n",
       "      <th>0</th>\n",
       "      <td>1</td>\n",
       "      <td>7145</td>\n",
       "      <td>1_7145_7206</td>\n",
       "      <td>NB</td>\n",
       "      <td>negative binomial</td>\n",
       "      <td>We chose to estimate a negative binomial (NB) ...</td>\n",
       "      <td>7153</td>\n",
       "      <td>7154</td>\n",
       "    </tr>\n",
       "    <tr>\n",
       "      <th>1</th>\n",
       "      <td>1</td>\n",
       "      <td>7401</td>\n",
       "      <td>1_7401_7424</td>\n",
       "      <td>ZINB</td>\n",
       "      <td>zero-inflated negative binomial fixed-effects</td>\n",
       "      <td>We therefore chose to estimate a full zero-inf...</td>\n",
       "      <td>7417</td>\n",
       "      <td>7418</td>\n",
       "    </tr>\n",
       "    <tr>\n",
       "      <th>2</th>\n",
       "      <td>1</td>\n",
       "      <td>7427</td>\n",
       "      <td>1_7427_7506</td>\n",
       "      <td>ZINB</td>\n",
       "      <td>zero-inflated negative binomial fixed-effects</td>\n",
       "      <td>The ZINB model assumes that two distinct proce...</td>\n",
       "      <td>7466</td>\n",
       "      <td>7467</td>\n",
       "    </tr>\n",
       "    <tr>\n",
       "      <th>3</th>\n",
       "      <td>1</td>\n",
       "      <td>7427</td>\n",
       "      <td>1_7427_7506</td>\n",
       "      <td>ZINB</td>\n",
       "      <td>zero-inflated negative binomial fixed-effects</td>\n",
       "      <td>The ZINB model assumes that two distinct proce...</td>\n",
       "      <td>7428</td>\n",
       "      <td>7429</td>\n",
       "    </tr>\n",
       "    <tr>\n",
       "      <th>4</th>\n",
       "      <td>1</td>\n",
       "      <td>7506</td>\n",
       "      <td>1_7506_7535</td>\n",
       "      <td>NB</td>\n",
       "      <td>negative binomial</td>\n",
       "      <td>We used a conditional estimator in  START_CITE...</td>\n",
       "      <td>7528</td>\n",
       "      <td>7529</td>\n",
       "    </tr>\n",
       "  </tbody>\n",
       "</table>\n",
       "</div>"
      ],
      "text/plain": [
       "   article_id  sentence_start  sentence_id abbreviation  \\\n",
       "0           1            7145  1_7145_7206           NB   \n",
       "1           1            7401  1_7401_7424         ZINB   \n",
       "2           1            7427  1_7427_7506         ZINB   \n",
       "3           1            7427  1_7427_7506         ZINB   \n",
       "4           1            7506  1_7506_7535           NB   \n",
       "\n",
       "                                      definition  \\\n",
       "0                              negative binomial   \n",
       "1  zero-inflated negative binomial fixed-effects   \n",
       "2  zero-inflated negative binomial fixed-effects   \n",
       "3  zero-inflated negative binomial fixed-effects   \n",
       "4                              negative binomial   \n",
       "\n",
       "                                            sentence  start   end  \n",
       "0  We chose to estimate a negative binomial (NB) ...   7153  7154  \n",
       "1  We therefore chose to estimate a full zero-inf...   7417  7418  \n",
       "2  The ZINB model assumes that two distinct proce...   7466  7467  \n",
       "3  The ZINB model assumes that two distinct proce...   7428  7429  \n",
       "4  We used a conditional estimator in  START_CITE...   7528  7529  "
      ]
     },
     "execution_count": 2,
     "metadata": {},
     "output_type": "execute_result"
    }
   ],
   "source": [
    "#load data\n",
    "abbr=pd.read_csv(os.path.join(path, abbreviations_file))\n",
    "abbr.head()"
   ]
  },
  {
   "cell_type": "code",
   "execution_count": 4,
   "metadata": {},
   "outputs": [
    {
     "data": {
      "text/plain": [
       "'The ZINB model assumes that two distinct processes generate zeros: one process generates only zeros (lurking) and the other process (participatinga count process) generates both zero and non-zero counts Accordingly, the ZINB regression entails two models: a count model -NB modelto model the count process, and a logit model to differentiate the two processes generating the zero outcomes  START_CITE (Greene, 2011) END_CITE  CITE_b25 .'"
      ]
     },
     "execution_count": 4,
     "metadata": {},
     "output_type": "execute_result"
    }
   ],
   "source": [
    "abbr.sentence.iloc[2]"
   ]
  },
  {
   "cell_type": "code",
   "execution_count": 3,
   "metadata": {},
   "outputs": [
    {
     "name": "stdout",
     "output_type": "stream",
     "text": [
      "Index(['article_id', 'sentence_start', 'sentence_id', 'abbreviation',\n",
      "       'definition', 'sentence', 'start', 'end'],\n",
      "      dtype='object')\n"
     ]
    }
   ],
   "source": [
    "print(abbr.columns)"
   ]
  },
  {
   "cell_type": "code",
   "execution_count": 11,
   "metadata": {},
   "outputs": [
    {
     "data": {
      "text/plain": [
       "(2476359, 8)"
      ]
     },
     "execution_count": 11,
     "metadata": {},
     "output_type": "execute_result"
    }
   ],
   "source": [
    "abbr.shape"
   ]
  },
  {
   "cell_type": "code",
   "execution_count": 16,
   "metadata": {},
   "outputs": [
    {
     "name": "stdout",
     "output_type": "stream",
     "text": [
      "unique articles: 34440\n",
      "unique sentences: 1866497\n",
      "unique abbreviations: 25718\n"
     ]
    }
   ],
   "source": [
    "#how many unique values are inside the dataset\n",
    "print('unique articles:', abbr.article_id.nunique())\n",
    "print('unique sentences:', abbr.sentence_id.nunique())\n",
    "print('unique abbreviations:', abbr.abbreviation.nunique())"
   ]
  },
  {
   "cell_type": "code",
   "execution_count": 23,
   "metadata": {},
   "outputs": [
    {
     "data": {
      "text/plain": [
       "article_id\n",
       "22478    79\n",
       "13456    78\n",
       "50150    71\n",
       "19294    63\n",
       "18274    58\n",
       "         ..\n",
       "21247     1\n",
       "24587     0\n",
       "24975     0\n",
       "50356     0\n",
       "14571     0\n",
       "Name: abbreviation, Length: 34440, dtype: int64"
      ]
     },
     "execution_count": 23,
     "metadata": {},
     "output_type": "execute_result"
    }
   ],
   "source": [
    "#article with the most abbreviations\n",
    "abbr.groupby('article_id').abbreviation.nunique().sort_values(ascending=False)\n",
    "#article 22478 contains 79 abbreviations!"
   ]
  },
  {
   "cell_type": "code",
   "execution_count": 29,
   "metadata": {},
   "outputs": [
    {
     "data": {
      "text/html": [
       "<div>\n",
       "<style scoped>\n",
       "    .dataframe tbody tr th:only-of-type {\n",
       "        vertical-align: middle;\n",
       "    }\n",
       "\n",
       "    .dataframe tbody tr th {\n",
       "        vertical-align: top;\n",
       "    }\n",
       "\n",
       "    .dataframe thead th {\n",
       "        text-align: right;\n",
       "    }\n",
       "</style>\n",
       "<table border=\"1\" class=\"dataframe\">\n",
       "  <thead>\n",
       "    <tr style=\"text-align: right;\">\n",
       "      <th></th>\n",
       "      <th>abbreviation</th>\n",
       "      <th>definition</th>\n",
       "    </tr>\n",
       "  </thead>\n",
       "  <tbody>\n",
       "    <tr>\n",
       "      <th>1072010</th>\n",
       "      <td>IT</td>\n",
       "      <td>information technology</td>\n",
       "    </tr>\n",
       "    <tr>\n",
       "      <th>1072011</th>\n",
       "      <td>VAR</td>\n",
       "      <td>vector autoregression</td>\n",
       "    </tr>\n",
       "    <tr>\n",
       "      <th>1072012</th>\n",
       "      <td>ALE</td>\n",
       "      <td>Average Loss Expectancy</td>\n",
       "    </tr>\n",
       "    <tr>\n",
       "      <th>1072013</th>\n",
       "      <td>VAR</td>\n",
       "      <td>vector autoregression</td>\n",
       "    </tr>\n",
       "    <tr>\n",
       "      <th>1072014</th>\n",
       "      <td>VAR</td>\n",
       "      <td>vector autoregression</td>\n",
       "    </tr>\n",
       "    <tr>\n",
       "      <th>...</th>\n",
       "      <td>...</td>\n",
       "      <td>...</td>\n",
       "    </tr>\n",
       "    <tr>\n",
       "      <th>1072137</th>\n",
       "      <td>ITRU</td>\n",
       "      <td>InterTrust Technologies Corp \\n \\n \\n \\n \\n</td>\n",
       "    </tr>\n",
       "    <tr>\n",
       "      <th>1072138</th>\n",
       "      <td>SCUR</td>\n",
       "      <td>Secure Computing</td>\n",
       "    </tr>\n",
       "    <tr>\n",
       "      <th>1072139</th>\n",
       "      <td>SNWL</td>\n",
       "      <td>SonicWALL</td>\n",
       "    </tr>\n",
       "    <tr>\n",
       "      <th>1072140</th>\n",
       "      <td>IQBM</td>\n",
       "      <td>Biometrix Inc</td>\n",
       "    </tr>\n",
       "    <tr>\n",
       "      <th>1072141</th>\n",
       "      <td>SCLD</td>\n",
       "      <td>SteelCloud inc</td>\n",
       "    </tr>\n",
       "  </tbody>\n",
       "</table>\n",
       "<p>132 rows × 2 columns</p>\n",
       "</div>"
      ],
      "text/plain": [
       "        abbreviation                                   definition\n",
       "1072010           IT                       information technology\n",
       "1072011          VAR                        vector autoregression\n",
       "1072012          ALE                      Average Loss Expectancy\n",
       "1072013          VAR                        vector autoregression\n",
       "1072014          VAR                        vector autoregression\n",
       "...              ...                                          ...\n",
       "1072137         ITRU  InterTrust Technologies Corp \\n \\n \\n \\n \\n\n",
       "1072138         SCUR                             Secure Computing\n",
       "1072139         SNWL                                    SonicWALL\n",
       "1072140         IQBM                                Biometrix Inc\n",
       "1072141         SCLD                               SteelCloud inc\n",
       "\n",
       "[132 rows x 2 columns]"
      ]
     },
     "execution_count": 29,
     "metadata": {},
     "output_type": "execute_result"
    }
   ],
   "source": [
    "#which abbreviations does that article contain?\n",
    "abbr[abbr.article_id==22478][['abbreviation', 'definition']]"
   ]
  },
  {
   "cell_type": "code",
   "execution_count": 9,
   "metadata": {},
   "outputs": [
    {
     "data": {
      "text/plain": [
       "False    746197\n",
       "dtype: int64"
      ]
     },
     "execution_count": 9,
     "metadata": {},
     "output_type": "execute_result"
    }
   ],
   "source": [
    "#what would be a unique key?\n",
    "abbr.duplicated(subset=['sentence_id', 'start', 'abbreviation']).value_counts()"
   ]
  }
 ],
 "metadata": {
  "interpreter": {
   "hash": "d844650826fcf972af841405fe4d55b388940c2b43dcf90bc2c5349e23ea0678"
  },
  "kernelspec": {
   "display_name": "Python 3.9.7 64-bit ('thesis': conda)",
   "name": "python3"
  },
  "language_info": {
   "codemirror_mode": {
    "name": "ipython",
    "version": 3
   },
   "file_extension": ".py",
   "mimetype": "text/x-python",
   "name": "python",
   "nbconvert_exporter": "python",
   "pygments_lexer": "ipython3",
   "version": "3.9.8"
  },
  "orig_nbformat": 4
 },
 "nbformat": 4,
 "nbformat_minor": 2
}
