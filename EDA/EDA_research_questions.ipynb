{
 "cells": [
  {
   "cell_type": "code",
   "execution_count": 1,
   "metadata": {},
   "outputs": [
    {
     "name": "stdout",
     "output_type": "stream",
     "text": [
      "(3887, 4)\n",
      "Index(['article_id', 'sentence_id', 'RQ number', 'sentence'], dtype='object')\n"
     ]
    }
   ],
   "source": [
    "#import packages\n",
    "import pandas as pd\n",
    "import os\n",
    "\n",
    "#define source directory\n",
    "path='/home/muellerrol/causeminer2/reports/2021_11_09_103116_results'\n",
    "\n",
    "#filenames of RQ-related files\n",
    "rq_file='research_questions.csv'\n",
    "\n",
    "#load data\n",
    "rq=pd.read_csv(os.path.join(path,rq_file))\n",
    "\n",
    "print(rq.shape)\n",
    "print(rq.columns)"
   ]
  },
  {
   "cell_type": "code",
   "execution_count": 2,
   "metadata": {},
   "outputs": [
    {
     "data": {
      "text/html": [
       "<div>\n",
       "<style scoped>\n",
       "    .dataframe tbody tr th:only-of-type {\n",
       "        vertical-align: middle;\n",
       "    }\n",
       "\n",
       "    .dataframe tbody tr th {\n",
       "        vertical-align: top;\n",
       "    }\n",
       "\n",
       "    .dataframe thead th {\n",
       "        text-align: right;\n",
       "    }\n",
       "</style>\n",
       "<table border=\"1\" class=\"dataframe\">\n",
       "  <thead>\n",
       "    <tr style=\"text-align: right;\">\n",
       "      <th></th>\n",
       "      <th>article_id</th>\n",
       "      <th>sentence_id</th>\n",
       "      <th>RQ number</th>\n",
       "      <th>sentence</th>\n",
       "    </tr>\n",
       "  </thead>\n",
       "  <tbody>\n",
       "    <tr>\n",
       "      <th>0</th>\n",
       "      <td>6</td>\n",
       "      <td>6_1052_1086</td>\n",
       "      <td>NaN</td>\n",
       "      <td>In our analysis we ask : to which degree did t...</td>\n",
       "    </tr>\n",
       "    <tr>\n",
       "      <th>1</th>\n",
       "      <td>9</td>\n",
       "      <td>9_5548_5579</td>\n",
       "      <td>1.0</td>\n",
       "      <td>We propose the development of a stylometric si...</td>\n",
       "    </tr>\n",
       "    <tr>\n",
       "      <th>2</th>\n",
       "      <td>11</td>\n",
       "      <td>11_1425_1442</td>\n",
       "      <td>NaN</td>\n",
       "      <td>\" How can we design listening platforms that a...</td>\n",
       "    </tr>\n",
       "    <tr>\n",
       "      <th>3</th>\n",
       "      <td>11</td>\n",
       "      <td>11_1535_1566</td>\n",
       "      <td>NaN</td>\n",
       "      <td>How effectively can various Voice of the Custo...</td>\n",
       "    </tr>\n",
       "    <tr>\n",
       "      <th>4</th>\n",
       "      <td>11</td>\n",
       "      <td>11_1571_1602</td>\n",
       "      <td>NaN</td>\n",
       "      <td>What are the relevant interactions between cha...</td>\n",
       "    </tr>\n",
       "  </tbody>\n",
       "</table>\n",
       "</div>"
      ],
      "text/plain": [
       "   article_id   sentence_id  RQ number  \\\n",
       "0           6   6_1052_1086        NaN   \n",
       "1           9   9_5548_5579        1.0   \n",
       "2          11  11_1425_1442        NaN   \n",
       "3          11  11_1535_1566        NaN   \n",
       "4          11  11_1571_1602        NaN   \n",
       "\n",
       "                                            sentence  \n",
       "0  In our analysis we ask : to which degree did t...  \n",
       "1  We propose the development of a stylometric si...  \n",
       "2  \" How can we design listening platforms that a...  \n",
       "3  How effectively can various Voice of the Custo...  \n",
       "4  What are the relevant interactions between cha...  "
      ]
     },
     "execution_count": 2,
     "metadata": {},
     "output_type": "execute_result"
    }
   ],
   "source": [
    "rq.head()"
   ]
  },
  {
   "cell_type": "code",
   "execution_count": 3,
   "metadata": {},
   "outputs": [
    {
     "data": {
      "text/plain": [
       "False    3887\n",
       "dtype: int64"
      ]
     },
     "execution_count": 3,
     "metadata": {},
     "output_type": "execute_result"
    }
   ],
   "source": [
    "rq.duplicated(subset=['sentence_id']).value_counts()"
   ]
  }
 ],
 "metadata": {
  "interpreter": {
   "hash": "390644c4b70b83482620604a264a508eb1179d5ce45745f92e02274b2a7257d8"
  },
  "kernelspec": {
   "display_name": "Python 3.9.8 64-bit ('thesis3.9': venv)",
   "language": "python",
   "name": "python3"
  },
  "language_info": {
   "codemirror_mode": {
    "name": "ipython",
    "version": 3
   },
   "file_extension": ".py",
   "mimetype": "text/x-python",
   "name": "python",
   "nbconvert_exporter": "python",
   "pygments_lexer": "ipython3",
   "version": "3.9.8"
  },
  "orig_nbformat": 4
 },
 "nbformat": 4,
 "nbformat_minor": 2
}
