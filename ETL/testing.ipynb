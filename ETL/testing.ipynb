{
 "cells": [
  {
   "cell_type": "code",
   "execution_count": 1,
   "metadata": {},
   "outputs": [],
   "source": [
    "from db_credentials\timport dwh_db_connection_params\n",
    "from database import Database\n",
    "from variables import sourcepath\n",
    "import os\n",
    "import pandas as pd\n",
    "import numpy as np"
   ]
  },
  {
   "cell_type": "code",
   "execution_count": 2,
   "metadata": {},
   "outputs": [],
   "source": [
    "import roman"
   ]
  },
  {
   "cell_type": "code",
   "execution_count": 41,
   "metadata": {},
   "outputs": [],
   "source": [
    "pap=pd.read_csv(os.path.join(sourcepath, 'papers_final.csv'))#[['journal', 'volume', 'issue', 'publisher', 'place']]\n",
    "ref=pd.read_csv(os.path.join(sourcepath, 'unique_references.csv'))#[['journal', 'volume', 'issue', 'publisher', 'place']]"
   ]
  },
  {
   "cell_type": "code",
   "execution_count": 43,
   "metadata": {},
   "outputs": [
    {
     "data": {
      "text/html": [
       "<div>\n",
       "<style scoped>\n",
       "    .dataframe tbody tr th:only-of-type {\n",
       "        vertical-align: middle;\n",
       "    }\n",
       "\n",
       "    .dataframe tbody tr th {\n",
       "        vertical-align: top;\n",
       "    }\n",
       "\n",
       "    .dataframe thead th {\n",
       "        text-align: right;\n",
       "    }\n",
       "</style>\n",
       "<table border=\"1\" class=\"dataframe\">\n",
       "  <thead>\n",
       "    <tr style=\"text-align: right;\">\n",
       "      <th></th>\n",
       "      <th>article_id</th>\n",
       "      <th>citekey</th>\n",
       "      <th>journal_akronym</th>\n",
       "      <th>journal</th>\n",
       "      <th>year</th>\n",
       "      <th>authors</th>\n",
       "      <th>title</th>\n",
       "      <th>abstract</th>\n",
       "      <th>keywords</th>\n",
       "      <th>number_of_pages</th>\n",
       "      <th>volume</th>\n",
       "      <th>issue</th>\n",
       "      <th>publisher</th>\n",
       "      <th>place</th>\n",
       "    </tr>\n",
       "  </thead>\n",
       "  <tbody>\n",
       "    <tr>\n",
       "      <th>0</th>\n",
       "      <td>1</td>\n",
       "      <td>(kevin)_yan_j_examining_interdependence_betwee...</td>\n",
       "      <td>JSIS</td>\n",
       "      <td>The Journal Of Strategic Information Systems</td>\n",
       "      <td>2021</td>\n",
       "      <td>(Kevin) Yan, J.; Leidner, D.; Benbya, H.; Zou, W.</td>\n",
       "      <td>Examining interdependence between product user...</td>\n",
       "      <td>Firm-sponsored online user communities have be...</td>\n",
       "      <td>NaN</td>\n",
       "      <td>0.0</td>\n",
       "      <td>30.0</td>\n",
       "      <td>1.0</td>\n",
       "      <td>NaN</td>\n",
       "      <td>NaN</td>\n",
       "    </tr>\n",
       "    <tr>\n",
       "      <th>1</th>\n",
       "      <td>2</td>\n",
       "      <td>a_wilson_f_computer_support_for_strategic_orga...</td>\n",
       "      <td>JSIS</td>\n",
       "      <td>The Journal Of Strategic Information Systems</td>\n",
       "      <td>1994</td>\n",
       "      <td>A Wilson, F.</td>\n",
       "      <td>Computer support for strategic organizational ...</td>\n",
       "      <td>While information systems continue to be promo...</td>\n",
       "      <td>managerial actions, decision-making, computer-...</td>\n",
       "      <td>10.0</td>\n",
       "      <td>3.0</td>\n",
       "      <td>4</td>\n",
       "      <td>NaN</td>\n",
       "      <td>NaN</td>\n",
       "    </tr>\n",
       "  </tbody>\n",
       "</table>\n",
       "</div>"
      ],
      "text/plain": [
       "   article_id                                            citekey  \\\n",
       "0           1  (kevin)_yan_j_examining_interdependence_betwee...   \n",
       "1           2  a_wilson_f_computer_support_for_strategic_orga...   \n",
       "\n",
       "  journal_akronym                                       journal  year  \\\n",
       "0            JSIS  The Journal Of Strategic Information Systems  2021   \n",
       "1            JSIS  The Journal Of Strategic Information Systems  1994   \n",
       "\n",
       "                                             authors  \\\n",
       "0  (Kevin) Yan, J.; Leidner, D.; Benbya, H.; Zou, W.   \n",
       "1                                       A Wilson, F.   \n",
       "\n",
       "                                               title  \\\n",
       "0  Examining interdependence between product user...   \n",
       "1  Computer support for strategic organizational ...   \n",
       "\n",
       "                                            abstract  \\\n",
       "0  Firm-sponsored online user communities have be...   \n",
       "1  While information systems continue to be promo...   \n",
       "\n",
       "                                            keywords  number_of_pages  volume  \\\n",
       "0                                                NaN              0.0    30.0   \n",
       "1  managerial actions, decision-making, computer-...             10.0     3.0   \n",
       "\n",
       "  issue  publisher  place  \n",
       "0   1.0        NaN    NaN  \n",
       "1     4        NaN    NaN  "
      ]
     },
     "execution_count": 43,
     "metadata": {},
     "output_type": "execute_result"
    }
   ],
   "source": [
    "pap.head(2)"
   ]
  },
  {
   "cell_type": "code",
   "execution_count": 44,
   "metadata": {},
   "outputs": [
    {
     "data": {
      "text/html": [
       "<div>\n",
       "<style scoped>\n",
       "    .dataframe tbody tr th:only-of-type {\n",
       "        vertical-align: middle;\n",
       "    }\n",
       "\n",
       "    .dataframe tbody tr th {\n",
       "        vertical-align: top;\n",
       "    }\n",
       "\n",
       "    .dataframe thead th {\n",
       "        text-align: right;\n",
       "    }\n",
       "</style>\n",
       "<table border=\"1\" class=\"dataframe\">\n",
       "  <thead>\n",
       "    <tr style=\"text-align: right;\">\n",
       "      <th></th>\n",
       "      <th>citekey</th>\n",
       "      <th>authors</th>\n",
       "      <th>year</th>\n",
       "      <th>title</th>\n",
       "      <th>journal</th>\n",
       "      <th>volume</th>\n",
       "      <th>issue</th>\n",
       "      <th>pages</th>\n",
       "      <th>source_type</th>\n",
       "      <th>publisher</th>\n",
       "      <th>place</th>\n",
       "      <th>editor</th>\n",
       "      <th>monograph_title</th>\n",
       "      <th>note</th>\n",
       "    </tr>\n",
       "  </thead>\n",
       "  <tbody>\n",
       "    <tr>\n",
       "      <th>0</th>\n",
       "      <td>autio_e_information_exposure_opportunity_evalu...</td>\n",
       "      <td>Autio, E.; Dahlander, L.; Frederiksen, L.</td>\n",
       "      <td>2013</td>\n",
       "      <td>Information Exposure, Opportunity Evaluation, ...</td>\n",
       "      <td>Acad. Manag. J</td>\n",
       "      <td>56</td>\n",
       "      <td>5</td>\n",
       "      <td>1348-1371</td>\n",
       "      <td>article</td>\n",
       "      <td>NaN</td>\n",
       "      <td>NaN</td>\n",
       "      <td>NaN</td>\n",
       "      <td>NaN</td>\n",
       "      <td>NaN</td>\n",
       "    </tr>\n",
       "    <tr>\n",
       "      <th>1</th>\n",
       "      <td>barrett_m_creating_value_in_online_communities...</td>\n",
       "      <td>Barrett, M.; Oborn, E.; Orlikowski, W.</td>\n",
       "      <td>2016</td>\n",
       "      <td>Creating Value in Online Communities: The Soci...</td>\n",
       "      <td>Inform. Syst. Res</td>\n",
       "      <td>27</td>\n",
       "      <td>4</td>\n",
       "      <td>704-723</td>\n",
       "      <td>article</td>\n",
       "      <td>NaN</td>\n",
       "      <td>NaN</td>\n",
       "      <td>NaN</td>\n",
       "      <td>NaN</td>\n",
       "      <td>NaN</td>\n",
       "    </tr>\n",
       "  </tbody>\n",
       "</table>\n",
       "</div>"
      ],
      "text/plain": [
       "                                             citekey  \\\n",
       "0  autio_e_information_exposure_opportunity_evalu...   \n",
       "1  barrett_m_creating_value_in_online_communities...   \n",
       "\n",
       "                                     authors  year  \\\n",
       "0  Autio, E.; Dahlander, L.; Frederiksen, L.  2013   \n",
       "1     Barrett, M.; Oborn, E.; Orlikowski, W.  2016   \n",
       "\n",
       "                                               title            journal  \\\n",
       "0  Information Exposure, Opportunity Evaluation, ...     Acad. Manag. J   \n",
       "1  Creating Value in Online Communities: The Soci...  Inform. Syst. Res   \n",
       "\n",
       "  volume issue      pages source_type publisher place editor monograph_title  \\\n",
       "0     56     5  1348-1371     article       NaN   NaN    NaN             NaN   \n",
       "1     27     4    704-723     article       NaN   NaN    NaN             NaN   \n",
       "\n",
       "  note  \n",
       "0  NaN  \n",
       "1  NaN  "
      ]
     },
     "execution_count": 44,
     "metadata": {},
     "output_type": "execute_result"
    }
   ],
   "source": [
    "ref.head(2)"
   ]
  },
  {
   "cell_type": "markdown",
   "metadata": {},
   "source": [
    "Option 1: in paper transformation alle funktionen implemntieren, die author-, keyword- und journal transformation auch haben und hier noch mal alles mit den article_ids ausführen um die foreign keys in der db nsuchen zu können (lookup)\n",
    "\n",
    "Option 2: author-, keyword- und journal transformation sind class attributes von paper transformation, und beinhalten jeweils noch eine Funktion, welche den Link zu paper_id bzw citekey herstellt und ausgibt.\n",
    "\n",
    "Option 3: einen anderen algorithmus für primary keys nutzen, der auf basis eines strings immer die gleiche nummer zurückgibt (hash value, e.g. SHA1), dann ist kein lookup nötig. Vorteil: Independent / parallel processing, child table kann vor parent table geladen werden. Kombiniert mit 1 oder 2. \n",
    "\n",
    "DEPENDENCY INJECTION!?\n",
    "https://roelantvos.com/blog/using-a-natural-business-key-the-end-of-hash-keys/"
   ]
  },
  {
   "cell_type": "code",
   "execution_count": null,
   "metadata": {},
   "outputs": [],
   "source": []
  },
  {
   "cell_type": "code",
   "execution_count": 9,
   "metadata": {},
   "outputs": [
    {
     "name": "stdout",
     "output_type": "stream",
     "text": [
      "(192003, 5)\n",
      "(7479, 5)\n"
     ]
    }
   ],
   "source": [
    "print(ref.shape)\n",
    "print(pap.shape)"
   ]
  },
  {
   "cell_type": "code",
   "execution_count": 5,
   "metadata": {},
   "outputs": [
    {
     "data": {
      "text/plain": [
       "(174318, 5)"
      ]
     },
     "execution_count": 5,
     "metadata": {},
     "output_type": "execute_result"
    }
   ],
   "source": [
    "all.dropna(axis=0, how='all', inplace=True)\n",
    "all.shape"
   ]
  },
  {
   "cell_type": "code",
   "execution_count": 7,
   "metadata": {},
   "outputs": [],
   "source": [
    "#all.fillna({'journal': 'MISSING', 'volume':0, 'issue': 0, 'publisher': 'MISSING', 'place': 'MISSING'}, inplace=True)"
   ]
  }
 ],
 "metadata": {
  "interpreter": {
   "hash": "390644c4b70b83482620604a264a508eb1179d5ce45745f92e02274b2a7257d8"
  },
  "kernelspec": {
   "display_name": "Python 3.9.8 64-bit ('thesis3.9': venv)",
   "language": "python",
   "name": "python3"
  },
  "language_info": {
   "codemirror_mode": {
    "name": "ipython",
    "version": 3
   },
   "file_extension": ".py",
   "mimetype": "text/x-python",
   "name": "python",
   "nbconvert_exporter": "python",
   "pygments_lexer": "ipython3",
   "version": "3.9.8"
  },
  "orig_nbformat": 4
 },
 "nbformat": 4,
 "nbformat_minor": 2
}
