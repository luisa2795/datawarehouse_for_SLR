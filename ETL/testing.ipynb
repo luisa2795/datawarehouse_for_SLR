{
 "cells": [
  {
   "cell_type": "code",
   "execution_count": 1,
   "metadata": {},
   "outputs": [],
   "source": [
    "from db_credentials\timport dwh_db_connection_params\n",
    "from database import Database\n",
    "from variables import sourcepath\n",
    "import os\n",
    "import pandas as pd\n",
    "import numpy as np"
   ]
  },
  {
   "cell_type": "code",
   "execution_count": 2,
   "metadata": {},
   "outputs": [],
   "source": [
    "import roman"
   ]
  },
  {
   "cell_type": "code",
   "execution_count": 3,
   "metadata": {},
   "outputs": [],
   "source": [
    "pap=pd.read_csv(os.path.join(sourcepath, 'papers_final.csv'))[['journal', 'volume', 'issue', 'publisher', 'place']]\n",
    "ref=pd.read_csv(os.path.join(sourcepath, 'unique_references.csv'))[['journal', 'volume', 'issue', 'publisher', 'place']]"
   ]
  },
  {
   "cell_type": "code",
   "execution_count": 9,
   "metadata": {},
   "outputs": [
    {
     "name": "stdout",
     "output_type": "stream",
     "text": [
      "(192003, 5)\n",
      "(7479, 5)\n"
     ]
    }
   ],
   "source": [
    "print(ref.shape)\n",
    "print(pap.shape)"
   ]
  },
  {
   "cell_type": "code",
   "execution_count": 4,
   "metadata": {},
   "outputs": [
    {
     "data": {
      "text/plain": [
       "(199482, 5)"
      ]
     },
     "execution_count": 4,
     "metadata": {},
     "output_type": "execute_result"
    }
   ],
   "source": [
    "all=ref.append(pap, ignore_index=True)\n",
    "all.shape"
   ]
  },
  {
   "cell_type": "code",
   "execution_count": 5,
   "metadata": {},
   "outputs": [
    {
     "data": {
      "text/plain": [
       "(174318, 5)"
      ]
     },
     "execution_count": 5,
     "metadata": {},
     "output_type": "execute_result"
    }
   ],
   "source": [
    "all.dropna(axis=0, how='all', inplace=True)\n",
    "all.shape"
   ]
  },
  {
   "cell_type": "code",
   "execution_count": 6,
   "metadata": {},
   "outputs": [
    {
     "data": {
      "text/plain": [
       "(174318, 5)"
      ]
     },
     "execution_count": 6,
     "metadata": {},
     "output_type": "execute_result"
    }
   ],
   "source": [
    "all.drop_duplicates()\n",
    "all.shape\n"
   ]
  },
  {
   "cell_type": "code",
   "execution_count": 7,
   "metadata": {},
   "outputs": [],
   "source": [
    "all.fillna({'journal': 'MISSING', 'volume':0, 'issue': 0, 'publisher': 'MISSING', 'place': 'MISSING'}, inplace=True)"
   ]
  },
  {
   "cell_type": "code",
   "execution_count": 8,
   "metadata": {},
   "outputs": [
    {
     "data": {
      "text/plain": [
       "array(['II', 'I', 'IV', 'I', 'I', 'II', 'II', 'Number', '^', 'II', 'A',\n",
       "       'II', 'I', 'I', 'XXVII', 'XIX', 'IV', 'II', 'II', 'II.', 'II',\n",
       "       'VI', 'I', 'II', 'II', 'II', 'II', 'II', 'HI', 'II', 'II', 'IV',\n",
       "       'II', 'II', 'IV', 'IV', 'IV', 'IV', 'IV', 'IV', 'III', 'I', 'II',\n",
       "       'II', 'II', 'VI', 'chicago', 'I', 'I', 'INFOR', 'II', 'IV', 'II',\n",
       "       'I', 'II', 'I', 'II', 'II, I', 'XV', 'II', 'SI', 'XI', 'II', 'IV',\n",
       "       'VII', 'I', 'i', 'IV', 'II', 'XIII', 'XIII', 'XII', 'i', 'I', 'I',\n",
       "       'II', 'I', 'I', 'III', 'III', 'IV', 'H', 'I', 'VI', 'III', 'IV',\n",
       "       'II', 'II', 'I', 'd', 'I', 'II', 'I', 'II', 'II', 'II', 'II', 'I',\n",
       "       'III', 'IV', 'IV', 'I', 'II', 'I', 'I', 'I', 'II', 'III', 'I', 'I',\n",
       "       'III', 'II', 'VIII. Symantec', 'II', 'I', 'I', 'InformationWeek',\n",
       "       'IV', 'II', 'I', 'VIII', 'I', 'III', 'I', 'II', 'II', 'V', 'II',\n",
       "       'II', 'II', 'II', 'IV', 'I', 'S', 'I', 'III', 'III', 'II', 'XLVI',\n",
       "       'I', 'I', 'II', 'XIII', 'XIV', 'XIV', 'XIV', 'In T', 'II', 'I',\n",
       "       'Three', 'I', 'IH', 'II', 'II', 'III', 'IV'], dtype=object)"
      ]
     },
     "execution_count": 8,
     "metadata": {},
     "output_type": "execute_result"
    }
   ],
   "source": [
    "#test\n",
    "all[pd.to_numeric(all.volume, errors='coerce').isnull()].volume.values"
   ]
  },
  {
   "cell_type": "code",
   "execution_count": 29,
   "metadata": {},
   "outputs": [],
   "source": [
    "def volume_to_int(volume):\n",
    "    try:\n",
    "        vol=int(volume)\n",
    "    except:\n",
    "        try:\n",
    "            vol=roman.fromRoman(volume)\n",
    "        except:\n",
    "            vol=0\n",
    "    if vol>10000:\n",
    "        vol=0\n",
    "    return vol"
   ]
  },
  {
   "cell_type": "code",
   "execution_count": 30,
   "metadata": {},
   "outputs": [],
   "source": [
    "all.volume=all.volume.apply(lambda v: volume_to_int(v))"
   ]
  },
  {
   "cell_type": "code",
   "execution_count": 11,
   "metadata": {},
   "outputs": [],
   "source": [
    "def issue_to_int(issue):\n",
    "    try: \n",
    "        iss=int(issue)\n",
    "    except:\n",
    "        try:\n",
    "            iss=int(issue[0])\n",
    "        except:\n",
    "            iss=0\n",
    "    return iss"
   ]
  },
  {
   "cell_type": "code",
   "execution_count": 31,
   "metadata": {},
   "outputs": [],
   "source": [
    "all.issue=all.issue.apply(lambda i: issue_to_int(i))"
   ]
  },
  {
   "cell_type": "code",
   "execution_count": 32,
   "metadata": {},
   "outputs": [
    {
     "data": {
      "text/plain": [
       "(92784, 5)"
      ]
     },
     "execution_count": 32,
     "metadata": {},
     "output_type": "execute_result"
    }
   ],
   "source": [
    "all.shape"
   ]
  },
  {
   "cell_type": "code",
   "execution_count": 33,
   "metadata": {},
   "outputs": [],
   "source": [
    "all.drop_duplicates(inplace=True)"
   ]
  },
  {
   "cell_type": "code",
   "execution_count": 34,
   "metadata": {},
   "outputs": [
    {
     "name": "stdout",
     "output_type": "stream",
     "text": [
      "<class 'pandas.core.frame.DataFrame'>\n",
      "Int64Index: 92758 entries, 0 to 199459\n",
      "Data columns (total 5 columns):\n",
      " #   Column     Non-Null Count  Dtype \n",
      "---  ------     --------------  ----- \n",
      " 0   journal    92758 non-null  object\n",
      " 1   volume     92758 non-null  int64 \n",
      " 2   issue      92758 non-null  int64 \n",
      " 3   publisher  92758 non-null  object\n",
      " 4   place      92758 non-null  object\n",
      "dtypes: int64(2), object(3)\n",
      "memory usage: 4.2+ MB\n"
     ]
    }
   ],
   "source": [
    "all.info()"
   ]
  },
  {
   "cell_type": "code",
   "execution_count": 39,
   "metadata": {},
   "outputs": [
    {
     "data": {
      "text/plain": [
       "883739"
      ]
     },
     "execution_count": 39,
     "metadata": {},
     "output_type": "execute_result"
    }
   ],
   "source": [
    "all.issue.max()"
   ]
  },
  {
   "cell_type": "code",
   "execution_count": 40,
   "metadata": {},
   "outputs": [
    {
     "data": {
      "text/html": [
       "<div>\n",
       "<style scoped>\n",
       "    .dataframe tbody tr th:only-of-type {\n",
       "        vertical-align: middle;\n",
       "    }\n",
       "\n",
       "    .dataframe tbody tr th {\n",
       "        vertical-align: top;\n",
       "    }\n",
       "\n",
       "    .dataframe thead th {\n",
       "        text-align: right;\n",
       "    }\n",
       "</style>\n",
       "<table border=\"1\" class=\"dataframe\">\n",
       "  <thead>\n",
       "    <tr style=\"text-align: right;\">\n",
       "      <th></th>\n",
       "      <th>journal</th>\n",
       "      <th>volume</th>\n",
       "      <th>issue</th>\n",
       "      <th>publisher</th>\n",
       "      <th>place</th>\n",
       "    </tr>\n",
       "  </thead>\n",
       "  <tbody>\n",
       "    <tr>\n",
       "      <th>35303</th>\n",
       "      <td>New York University Law Review</td>\n",
       "      <td>81</td>\n",
       "      <td>883739</td>\n",
       "      <td>MISSING</td>\n",
       "      <td>MISSING</td>\n",
       "    </tr>\n",
       "    <tr>\n",
       "      <th>54598</th>\n",
       "      <td>ComputerWorld</td>\n",
       "      <td>47</td>\n",
       "      <td>57374</td>\n",
       "      <td>MISSING</td>\n",
       "      <td>MISSING</td>\n",
       "    </tr>\n",
       "    <tr>\n",
       "      <th>69405</th>\n",
       "      <td>Computerworld</td>\n",
       "      <td>47</td>\n",
       "      <td>50529</td>\n",
       "      <td>MISSING</td>\n",
       "      <td>MISSING</td>\n",
       "    </tr>\n",
       "    <tr>\n",
       "      <th>69406</th>\n",
       "      <td>Computerworld</td>\n",
       "      <td>47</td>\n",
       "      <td>54993</td>\n",
       "      <td>MISSING</td>\n",
       "      <td>MISSING</td>\n",
       "    </tr>\n",
       "    <tr>\n",
       "      <th>100960</th>\n",
       "      <td>NBER Working Paper Series</td>\n",
       "      <td>0</td>\n",
       "      <td>14128</td>\n",
       "      <td>MISSING</td>\n",
       "      <td>MISSING</td>\n",
       "    </tr>\n",
       "    <tr>\n",
       "      <th>114740</th>\n",
       "      <td>National Bureau of Economic Research Working P...</td>\n",
       "      <td>0</td>\n",
       "      <td>10397</td>\n",
       "      <td>MISSING</td>\n",
       "      <td>MISSING</td>\n",
       "    </tr>\n",
       "  </tbody>\n",
       "</table>\n",
       "</div>"
      ],
      "text/plain": [
       "                                                  journal  volume   issue  \\\n",
       "35303                      New York University Law Review      81  883739   \n",
       "54598                                       ComputerWorld      47   57374   \n",
       "69405                                       Computerworld      47   50529   \n",
       "69406                                       Computerworld      47   54993   \n",
       "100960                          NBER Working Paper Series       0   14128   \n",
       "114740  National Bureau of Economic Research Working P...       0   10397   \n",
       "\n",
       "       publisher    place  \n",
       "35303    MISSING  MISSING  \n",
       "54598    MISSING  MISSING  \n",
       "69405    MISSING  MISSING  \n",
       "69406    MISSING  MISSING  \n",
       "100960   MISSING  MISSING  \n",
       "114740   MISSING  MISSING  "
      ]
     },
     "execution_count": 40,
     "metadata": {},
     "output_type": "execute_result"
    }
   ],
   "source": [
    "all[all.issue>10000]"
   ]
  },
  {
   "cell_type": "code",
   "execution_count": 38,
   "metadata": {},
   "outputs": [
    {
     "data": {
      "text/html": [
       "<div>\n",
       "<style scoped>\n",
       "    .dataframe tbody tr th:only-of-type {\n",
       "        vertical-align: middle;\n",
       "    }\n",
       "\n",
       "    .dataframe tbody tr th {\n",
       "        vertical-align: top;\n",
       "    }\n",
       "\n",
       "    .dataframe thead th {\n",
       "        text-align: right;\n",
       "    }\n",
       "</style>\n",
       "<table border=\"1\" class=\"dataframe\">\n",
       "  <thead>\n",
       "    <tr style=\"text-align: right;\">\n",
       "      <th></th>\n",
       "      <th>journal</th>\n",
       "      <th>volume</th>\n",
       "      <th>issue</th>\n",
       "      <th>publisher</th>\n",
       "      <th>place</th>\n",
       "    </tr>\n",
       "  </thead>\n",
       "  <tbody>\n",
       "    <tr>\n",
       "      <th>24</th>\n",
       "      <td>MISSING</td>\n",
       "      <td>0</td>\n",
       "      <td>0</td>\n",
       "      <td>Pearson Education Inc</td>\n",
       "      <td>Los Angeles</td>\n",
       "    </tr>\n",
       "    <tr>\n",
       "      <th>30</th>\n",
       "      <td>MISSING</td>\n",
       "      <td>0</td>\n",
       "      <td>0</td>\n",
       "      <td>Academic Press</td>\n",
       "      <td>London</td>\n",
       "    </tr>\n",
       "    <tr>\n",
       "      <th>38</th>\n",
       "      <td>MISSING</td>\n",
       "      <td>0</td>\n",
       "      <td>0</td>\n",
       "      <td>Sage Publications</td>\n",
       "      <td>MISSING</td>\n",
       "    </tr>\n",
       "    <tr>\n",
       "      <th>43</th>\n",
       "      <td>Salesforce.com</td>\n",
       "      <td>0</td>\n",
       "      <td>0</td>\n",
       "      <td>MISSING</td>\n",
       "      <td>MISSING</td>\n",
       "    </tr>\n",
       "    <tr>\n",
       "      <th>49</th>\n",
       "      <td>BMC Communities</td>\n",
       "      <td>0</td>\n",
       "      <td>0</td>\n",
       "      <td>MISSING</td>\n",
       "      <td>MISSING</td>\n",
       "    </tr>\n",
       "    <tr>\n",
       "      <th>...</th>\n",
       "      <td>...</td>\n",
       "      <td>...</td>\n",
       "      <td>...</td>\n",
       "      <td>...</td>\n",
       "      <td>...</td>\n",
       "    </tr>\n",
       "    <tr>\n",
       "      <th>191998</th>\n",
       "      <td>Interdisciplinary journal of information</td>\n",
       "      <td>0</td>\n",
       "      <td>0</td>\n",
       "      <td>MISSING</td>\n",
       "      <td>MISSING</td>\n",
       "    </tr>\n",
       "    <tr>\n",
       "      <th>191999</th>\n",
       "      <td>Interactive Learning Environments</td>\n",
       "      <td>0</td>\n",
       "      <td>1</td>\n",
       "      <td>MISSING</td>\n",
       "      <td>MISSING</td>\n",
       "    </tr>\n",
       "    <tr>\n",
       "      <th>194139</th>\n",
       "      <td>The Journal Of Strategic Information Systems</td>\n",
       "      <td>0</td>\n",
       "      <td>0</td>\n",
       "      <td>MISSING</td>\n",
       "      <td>MISSING</td>\n",
       "    </tr>\n",
       "    <tr>\n",
       "      <th>196176</th>\n",
       "      <td>Journal Of The Association For Information Sys...</td>\n",
       "      <td>0</td>\n",
       "      <td>0</td>\n",
       "      <td>MISSING</td>\n",
       "      <td>MISSING</td>\n",
       "    </tr>\n",
       "    <tr>\n",
       "      <th>199459</th>\n",
       "      <td>European Journal Of Information Systems</td>\n",
       "      <td>0</td>\n",
       "      <td>0</td>\n",
       "      <td>MISSING</td>\n",
       "      <td>MISSING</td>\n",
       "    </tr>\n",
       "  </tbody>\n",
       "</table>\n",
       "<p>21178 rows × 5 columns</p>\n",
       "</div>"
      ],
      "text/plain": [
       "                                                  journal  volume  issue  \\\n",
       "24                                                MISSING       0      0   \n",
       "30                                                MISSING       0      0   \n",
       "38                                                MISSING       0      0   \n",
       "43                                         Salesforce.com       0      0   \n",
       "49                                        BMC Communities       0      0   \n",
       "...                                                   ...     ...    ...   \n",
       "191998           Interdisciplinary journal of information       0      0   \n",
       "191999                  Interactive Learning Environments       0      1   \n",
       "194139       The Journal Of Strategic Information Systems       0      0   \n",
       "196176  Journal Of The Association For Information Sys...       0      0   \n",
       "199459            European Journal Of Information Systems       0      0   \n",
       "\n",
       "                    publisher        place  \n",
       "24      Pearson Education Inc  Los Angeles  \n",
       "30             Academic Press       London  \n",
       "38          Sage Publications      MISSING  \n",
       "43                    MISSING      MISSING  \n",
       "49                    MISSING      MISSING  \n",
       "...                       ...          ...  \n",
       "191998                MISSING      MISSING  \n",
       "191999                MISSING      MISSING  \n",
       "194139                MISSING      MISSING  \n",
       "196176                MISSING      MISSING  \n",
       "199459                MISSING      MISSING  \n",
       "\n",
       "[21178 rows x 5 columns]"
      ]
     },
     "execution_count": 38,
     "metadata": {},
     "output_type": "execute_result"
    }
   ],
   "source": [
    "all[all.volume==0]"
   ]
  },
  {
   "cell_type": "code",
   "execution_count": 19,
   "metadata": {},
   "outputs": [
    {
     "data": {
      "text/plain": [
       "883739"
      ]
     },
     "execution_count": 19,
     "metadata": {},
     "output_type": "execute_result"
    }
   ],
   "source": [
    "all.issue.max()"
   ]
  },
  {
   "cell_type": "code",
   "execution_count": 73,
   "metadata": {},
   "outputs": [],
   "source": [
    "all_db=all.iloc[:10]\n",
    "all_source=all.iloc[:15]"
   ]
  },
  {
   "cell_type": "code",
   "execution_count": 74,
   "metadata": {},
   "outputs": [
    {
     "name": "stdout",
     "output_type": "stream",
     "text": [
      "(15, 5)\n"
     ]
    },
    {
     "data": {
      "text/html": [
       "<div>\n",
       "<style scoped>\n",
       "    .dataframe tbody tr th:only-of-type {\n",
       "        vertical-align: middle;\n",
       "    }\n",
       "\n",
       "    .dataframe tbody tr th {\n",
       "        vertical-align: top;\n",
       "    }\n",
       "\n",
       "    .dataframe thead th {\n",
       "        text-align: right;\n",
       "    }\n",
       "</style>\n",
       "<table border=\"1\" class=\"dataframe\">\n",
       "  <thead>\n",
       "    <tr style=\"text-align: right;\">\n",
       "      <th></th>\n",
       "      <th>journal</th>\n",
       "      <th>volume</th>\n",
       "      <th>issue</th>\n",
       "      <th>publisher</th>\n",
       "      <th>place</th>\n",
       "    </tr>\n",
       "  </thead>\n",
       "  <tbody>\n",
       "    <tr>\n",
       "      <th>0</th>\n",
       "      <td>Acad. Manag. J</td>\n",
       "      <td>56</td>\n",
       "      <td>5</td>\n",
       "      <td>MISSING</td>\n",
       "      <td>MISSING</td>\n",
       "    </tr>\n",
       "    <tr>\n",
       "      <th>1</th>\n",
       "      <td>Inform. Syst. Res</td>\n",
       "      <td>27</td>\n",
       "      <td>4</td>\n",
       "      <td>MISSING</td>\n",
       "      <td>MISSING</td>\n",
       "    </tr>\n",
       "  </tbody>\n",
       "</table>\n",
       "</div>"
      ],
      "text/plain": [
       "             journal  volume  issue publisher    place\n",
       "0     Acad. Manag. J      56      5   MISSING  MISSING\n",
       "1  Inform. Syst. Res      27      4   MISSING  MISSING"
      ]
     },
     "execution_count": 74,
     "metadata": {},
     "output_type": "execute_result"
    }
   ],
   "source": [
    "merged=pd.merge(all_source, all_db, how='outer')\n",
    "print(merged.shape)\n",
    "merged.head(2)"
   ]
  },
  {
   "cell_type": "code",
   "execution_count": 76,
   "metadata": {},
   "outputs": [
    {
     "data": {
      "text/html": [
       "<div>\n",
       "<style scoped>\n",
       "    .dataframe tbody tr th:only-of-type {\n",
       "        vertical-align: middle;\n",
       "    }\n",
       "\n",
       "    .dataframe tbody tr th {\n",
       "        vertical-align: top;\n",
       "    }\n",
       "\n",
       "    .dataframe thead th {\n",
       "        text-align: right;\n",
       "    }\n",
       "</style>\n",
       "<table border=\"1\" class=\"dataframe\">\n",
       "  <thead>\n",
       "    <tr style=\"text-align: right;\">\n",
       "      <th></th>\n",
       "      <th>journal</th>\n",
       "      <th>volume</th>\n",
       "      <th>issue</th>\n",
       "      <th>publisher</th>\n",
       "      <th>place</th>\n",
       "    </tr>\n",
       "  </thead>\n",
       "  <tbody>\n",
       "    <tr>\n",
       "      <th>10</th>\n",
       "      <td>Res.-Technol. Manag</td>\n",
       "      <td>54</td>\n",
       "      <td>5</td>\n",
       "      <td>MISSING</td>\n",
       "      <td>MISSING</td>\n",
       "    </tr>\n",
       "    <tr>\n",
       "      <th>11</th>\n",
       "      <td>Organ. Sci</td>\n",
       "      <td>23</td>\n",
       "      <td>4</td>\n",
       "      <td>MISSING</td>\n",
       "      <td>MISSING</td>\n",
       "    </tr>\n",
       "    <tr>\n",
       "      <th>12</th>\n",
       "      <td>Res. Policy</td>\n",
       "      <td>34</td>\n",
       "      <td>4</td>\n",
       "      <td>MISSING</td>\n",
       "      <td>MISSING</td>\n",
       "    </tr>\n",
       "    <tr>\n",
       "      <th>13</th>\n",
       "      <td>Res. Policy</td>\n",
       "      <td>43</td>\n",
       "      <td>5</td>\n",
       "      <td>MISSING</td>\n",
       "      <td>MISSING</td>\n",
       "    </tr>\n",
       "    <tr>\n",
       "      <th>14</th>\n",
       "      <td>MIS Quarterly Executive</td>\n",
       "      <td>9</td>\n",
       "      <td>4</td>\n",
       "      <td>MISSING</td>\n",
       "      <td>MISSING</td>\n",
       "    </tr>\n",
       "  </tbody>\n",
       "</table>\n",
       "</div>"
      ],
      "text/plain": [
       "                    journal  volume  issue publisher    place\n",
       "10      Res.-Technol. Manag      54      5   MISSING  MISSING\n",
       "11               Organ. Sci      23      4   MISSING  MISSING\n",
       "12              Res. Policy      34      4   MISSING  MISSING\n",
       "13              Res. Policy      43      5   MISSING  MISSING\n",
       "14  MIS Quarterly Executive       9      4   MISSING  MISSING"
      ]
     },
     "execution_count": 76,
     "metadata": {},
     "output_type": "execute_result"
    }
   ],
   "source": [
    "pd.concat([merged, all_db]).drop_duplicates(keep=False)"
   ]
  }
 ],
 "metadata": {
  "interpreter": {
   "hash": "390644c4b70b83482620604a264a508eb1179d5ce45745f92e02274b2a7257d8"
  },
  "kernelspec": {
   "display_name": "Python 3.9.8 64-bit ('thesis3.9': venv)",
   "language": "python",
   "name": "python3"
  },
  "language_info": {
   "codemirror_mode": {
    "name": "ipython",
    "version": 3
   },
   "file_extension": ".py",
   "mimetype": "text/x-python",
   "name": "python",
   "nbconvert_exporter": "python",
   "pygments_lexer": "ipython3",
   "version": "3.9.8"
  },
  "orig_nbformat": 4
 },
 "nbformat": 4,
 "nbformat_minor": 2
}
