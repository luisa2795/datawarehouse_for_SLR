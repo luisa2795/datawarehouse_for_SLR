{
 "cells": [
  {
   "cell_type": "code",
   "execution_count": 3,
   "metadata": {},
   "outputs": [],
   "source": [
    "\n",
    "from variables import sourcepath\n",
    "import os\n",
    "import pandas as pd\n",
    "import numpy as np\n",
    "import etl.dim_author as auth\n",
    "import etl.dim_journal as jour\n",
    "import etl.common_functions as cof\n",
    "import etl.dim_paper as pape\n",
    "import etl.database as db\n",
    "from db_credentials import dwh_db_connection_params\n",
    "import datetime"
   ]
  },
  {
   "cell_type": "code",
   "execution_count": null,
   "metadata": {},
   "outputs": [],
   "source": []
  },
  {
   "cell_type": "code",
   "execution_count": 4,
   "metadata": {},
   "outputs": [],
   "source": [
    "eng, psycop2connect=db.initialize_engine(connection_params=dwh_db_connection_params)"
   ]
  },
  {
   "cell_type": "code",
   "execution_count": 6,
   "metadata": {},
   "outputs": [
    {
     "data": {
      "text/html": [
       "<div>\n",
       "<style scoped>\n",
       "    .dataframe tbody tr th:only-of-type {\n",
       "        vertical-align: middle;\n",
       "    }\n",
       "\n",
       "    .dataframe tbody tr th {\n",
       "        vertical-align: top;\n",
       "    }\n",
       "\n",
       "    .dataframe thead th {\n",
       "        text-align: right;\n",
       "    }\n",
       "</style>\n",
       "<table border=\"1\" class=\"dataframe\">\n",
       "  <thead>\n",
       "    <tr style=\"text-align: right;\">\n",
       "      <th></th>\n",
       "      <th>sentence_id</th>\n",
       "      <th>ent_id</th>\n",
       "    </tr>\n",
       "  </thead>\n",
       "  <tbody>\n",
       "    <tr>\n",
       "      <th>0</th>\n",
       "      <td>1_331_363</td>\n",
       "      <td>knowledge repository</td>\n",
       "    </tr>\n",
       "    <tr>\n",
       "      <th>1</th>\n",
       "      <td>1_476_511</td>\n",
       "      <td>digital platform</td>\n",
       "    </tr>\n",
       "    <tr>\n",
       "      <th>2</th>\n",
       "      <td>1_511_536</td>\n",
       "      <td>Salesforce.com</td>\n",
       "    </tr>\n",
       "    <tr>\n",
       "      <th>3</th>\n",
       "      <td>1_539_560</td>\n",
       "      <td>participatory design</td>\n",
       "    </tr>\n",
       "    <tr>\n",
       "      <th>4</th>\n",
       "      <td>1_874_899</td>\n",
       "      <td>group participant</td>\n",
       "    </tr>\n",
       "    <tr>\n",
       "      <th>...</th>\n",
       "      <td>...</td>\n",
       "      <td>...</td>\n",
       "    </tr>\n",
       "    <tr>\n",
       "      <th>2137613</th>\n",
       "      <td>7484_13503_13545</td>\n",
       "      <td>government</td>\n",
       "    </tr>\n",
       "    <tr>\n",
       "      <th>2137614</th>\n",
       "      <td>7484_13503_13545</td>\n",
       "      <td>health information system</td>\n",
       "    </tr>\n",
       "    <tr>\n",
       "      <th>2137615</th>\n",
       "      <td>7484_13545_13568</td>\n",
       "      <td>America</td>\n",
       "    </tr>\n",
       "    <tr>\n",
       "      <th>2137616</th>\n",
       "      <td>7484_13545_13568</td>\n",
       "      <td>Slovenia</td>\n",
       "    </tr>\n",
       "    <tr>\n",
       "      <th>2137617</th>\n",
       "      <td>7484_13568_13586</td>\n",
       "      <td>government</td>\n",
       "    </tr>\n",
       "  </tbody>\n",
       "</table>\n",
       "<p>2137618 rows × 2 columns</p>\n",
       "</div>"
      ],
      "text/plain": [
       "              sentence_id                     ent_id\n",
       "0               1_331_363       knowledge repository\n",
       "1               1_476_511           digital platform\n",
       "2               1_511_536             Salesforce.com\n",
       "3               1_539_560       participatory design\n",
       "4               1_874_899          group participant\n",
       "...                   ...                        ...\n",
       "2137613  7484_13503_13545                 government\n",
       "2137614  7484_13503_13545  health information system\n",
       "2137615  7484_13545_13568                    America\n",
       "2137616  7484_13545_13568                   Slovenia\n",
       "2137617  7484_13568_13586                 government\n",
       "\n",
       "[2137618 rows x 2 columns]"
      ]
     },
     "execution_count": 6,
     "metadata": {},
     "output_type": "execute_result"
    }
   ],
   "source": [
    "source_facts=cof.load_sourcefile('entities.csv')[['sentence_id', 'ent_id']]\n",
    "source_facts"
   ]
  },
  {
   "cell_type": "code",
   "execution_count": 7,
   "metadata": {},
   "outputs": [
    {
     "name": "stdout",
     "output_type": "stream",
     "text": [
      "(2137618, 2)\n"
     ]
    },
    {
     "data": {
      "text/plain": [
       "(1935582, 2)"
      ]
     },
     "execution_count": 7,
     "metadata": {},
     "output_type": "execute_result"
    }
   ],
   "source": [
    "print(source_facts.shape)\n",
    "#tbd introduce count fact measure? currently duplicates get dropped but maybe this should be fixed!\n",
    "source_facts.drop_duplicates().shape"
   ]
  },
  {
   "cell_type": "code",
   "execution_count": 8,
   "metadata": {},
   "outputs": [],
   "source": [
    "source_facts.drop_duplicates(inplace=True)\n"
   ]
  },
  {
   "cell_type": "code",
   "execution_count": 10,
   "metadata": {},
   "outputs": [],
   "source": [
    "dim_sentence=db.load_full_table(eng, 'dim_sentence')\n",
    "dim_entity=db.load_full_table(eng, 'dim_entity')"
   ]
  },
  {
   "cell_type": "code",
   "execution_count": 15,
   "metadata": {},
   "outputs": [
    {
     "data": {
      "text/html": [
       "<div>\n",
       "<style scoped>\n",
       "    .dataframe tbody tr th:only-of-type {\n",
       "        vertical-align: middle;\n",
       "    }\n",
       "\n",
       "    .dataframe tbody tr th {\n",
       "        vertical-align: top;\n",
       "    }\n",
       "\n",
       "    .dataframe thead th {\n",
       "        text-align: right;\n",
       "    }\n",
       "</style>\n",
       "<table border=\"1\" class=\"dataframe\">\n",
       "  <thead>\n",
       "    <tr style=\"text-align: right;\">\n",
       "      <th></th>\n",
       "      <th>entity_pk</th>\n",
       "      <th>entity_label</th>\n",
       "      <th>entity_name</th>\n",
       "    </tr>\n",
       "  </thead>\n",
       "  <tbody>\n",
       "    <tr>\n",
       "      <th>0</th>\n",
       "      <td>1</td>\n",
       "      <td>TOPIC</td>\n",
       "      <td>knowledge repository</td>\n",
       "    </tr>\n",
       "    <tr>\n",
       "      <th>1</th>\n",
       "      <td>2</td>\n",
       "      <td>TOPIC</td>\n",
       "      <td>digital platform</td>\n",
       "    </tr>\n",
       "  </tbody>\n",
       "</table>\n",
       "</div>"
      ],
      "text/plain": [
       "   entity_pk entity_label           entity_name\n",
       "0          1        TOPIC  knowledge repository\n",
       "1          2        TOPIC      digital platform"
      ]
     },
     "execution_count": 15,
     "metadata": {},
     "output_type": "execute_result"
    }
   ],
   "source": [
    "dim_entity.head(2)"
   ]
  },
  {
   "cell_type": "code",
   "execution_count": 16,
   "metadata": {},
   "outputs": [
    {
     "data": {
      "text/html": [
       "<div>\n",
       "<style scoped>\n",
       "    .dataframe tbody tr th:only-of-type {\n",
       "        vertical-align: middle;\n",
       "    }\n",
       "\n",
       "    .dataframe tbody tr th {\n",
       "        vertical-align: top;\n",
       "    }\n",
       "\n",
       "    .dataframe thead th {\n",
       "        text-align: right;\n",
       "    }\n",
       "</style>\n",
       "<table border=\"1\" class=\"dataframe\">\n",
       "  <thead>\n",
       "    <tr style=\"text-align: right;\">\n",
       "      <th></th>\n",
       "      <th>entity_pk</th>\n",
       "      <th>sentence_pk</th>\n",
       "    </tr>\n",
       "  </thead>\n",
       "  <tbody>\n",
       "    <tr>\n",
       "      <th>0</th>\n",
       "      <td>1</td>\n",
       "      <td>16.0</td>\n",
       "    </tr>\n",
       "    <tr>\n",
       "      <th>1</th>\n",
       "      <td>2</td>\n",
       "      <td>20.0</td>\n",
       "    </tr>\n",
       "    <tr>\n",
       "      <th>2</th>\n",
       "      <td>3</td>\n",
       "      <td>21.0</td>\n",
       "    </tr>\n",
       "    <tr>\n",
       "      <th>3</th>\n",
       "      <td>4</td>\n",
       "      <td>22.0</td>\n",
       "    </tr>\n",
       "    <tr>\n",
       "      <th>4</th>\n",
       "      <td>5</td>\n",
       "      <td>33.0</td>\n",
       "    </tr>\n",
       "    <tr>\n",
       "      <th>...</th>\n",
       "      <td>...</td>\n",
       "      <td>...</td>\n",
       "    </tr>\n",
       "    <tr>\n",
       "      <th>1935577</th>\n",
       "      <td>181</td>\n",
       "      <td>3324087.0</td>\n",
       "    </tr>\n",
       "    <tr>\n",
       "      <th>1935578</th>\n",
       "      <td>186</td>\n",
       "      <td>3324087.0</td>\n",
       "    </tr>\n",
       "    <tr>\n",
       "      <th>1935579</th>\n",
       "      <td>256</td>\n",
       "      <td>3324088.0</td>\n",
       "    </tr>\n",
       "    <tr>\n",
       "      <th>1935580</th>\n",
       "      <td>987</td>\n",
       "      <td>3324088.0</td>\n",
       "    </tr>\n",
       "    <tr>\n",
       "      <th>1935581</th>\n",
       "      <td>181</td>\n",
       "      <td>3324089.0</td>\n",
       "    </tr>\n",
       "  </tbody>\n",
       "</table>\n",
       "<p>1935582 rows × 2 columns</p>\n",
       "</div>"
      ],
      "text/plain": [
       "         entity_pk  sentence_pk\n",
       "0                1         16.0\n",
       "1                2         20.0\n",
       "2                3         21.0\n",
       "3                4         22.0\n",
       "4                5         33.0\n",
       "...            ...          ...\n",
       "1935577        181    3324087.0\n",
       "1935578        186    3324087.0\n",
       "1935579        256    3324088.0\n",
       "1935580        987    3324088.0\n",
       "1935581        181    3324089.0\n",
       "\n",
       "[1935582 rows x 2 columns]"
      ]
     },
     "execution_count": 16,
     "metadata": {},
     "output_type": "execute_result"
    }
   ],
   "source": [
    "source_facts=pd.merge(source_facts, dim_sentence, how='left', left_on='sentence_id', right_on='sentence_source_id')[['ent_id', 'sentence_pk']]\n",
    "source_facts=pd.merge(source_facts, dim_entity, how='left', left_on='ent_id', right_on='entity_name')[['entity_pk', 'sentence_pk']]\n",
    "source_facts"
   ]
  },
  {
   "cell_type": "code",
   "execution_count": null,
   "metadata": {},
   "outputs": [],
   "source": []
  }
 ],
 "metadata": {
  "interpreter": {
   "hash": "390644c4b70b83482620604a264a508eb1179d5ce45745f92e02274b2a7257d8"
  },
  "kernelspec": {
   "display_name": "Python 3.9.8 64-bit ('thesis3.9': venv)",
   "language": "python",
   "name": "python3"
  },
  "language_info": {
   "codemirror_mode": {
    "name": "ipython",
    "version": 3
   },
   "file_extension": ".py",
   "mimetype": "text/x-python",
   "name": "python",
   "nbconvert_exporter": "python",
   "pygments_lexer": "ipython3",
   "version": "3.9.8"
  },
  "orig_nbformat": 4
 },
 "nbformat": 4,
 "nbformat_minor": 2
}
