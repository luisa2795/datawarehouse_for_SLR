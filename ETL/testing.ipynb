{
 "cells": [
  {
   "cell_type": "code",
   "execution_count": 63,
   "metadata": {},
   "outputs": [],
   "source": [
    "\n",
    "from variables import sourcepath\n",
    "import os\n",
    "import pandas as pd\n",
    "import numpy as np\n",
    "import etl.dim_author as auth\n",
    "import etl.dim_journal as jour\n",
    "import etl.common_functions as cof\n",
    "import etl.dim_paper as pape\n",
    "import etl.database as db\n",
    "from db_credentials import dwh_db_connection_params\n",
    "import roman\n",
    "import datetime\n"
   ]
  },
  {
   "cell_type": "code",
   "execution_count": 56,
   "metadata": {},
   "outputs": [],
   "source": [
    "eng, psycop2connect=db.initialize_engine(connection_params=dwh_db_connection_params)"
   ]
  },
  {
   "cell_type": "code",
   "execution_count": 58,
   "metadata": {},
   "outputs": [
    {
     "name": "stderr",
     "output_type": "stream",
     "text": [
      "/home/luisa_waack/virtualenvs/thesis3.9/lib/python3.9/site-packages/pandas/core/generic.py:5516: SettingWithCopyWarning: \n",
      "A value is trying to be set on a copy of a slice from a DataFrame.\n",
      "Try using .loc[row_indexer,col_indexer] = value instead\n",
      "\n",
      "See the caveats in the documentation: https://pandas.pydata.org/pandas-docs/stable/user_guide/indexing.html#returning-a-view-versus-a-copy\n",
      "  self[name] = value\n"
     ]
    }
   ],
   "source": [
    "articles_df, references_df=pape.extract_all_papers()\n",
    "#first prepare papers from 'papers_final'\n",
    "articles_prep=pape.transform_papers(articles_df, eng)\n",
    "references_prep=pape.transform_references(references_df, eng)\n",
    "final_source_papers=pape.merge_all_papers(references_prep, articles_prep)\n",
    "papers_in_dwh=db.load_full_table(eng, 'dim_paper')\n"
   ]
  },
  {
   "cell_type": "code",
   "execution_count": 65,
   "metadata": {},
   "outputs": [
    {
     "ename": "ValueError",
     "evalue": "too many values to unpack (expected 5)",
     "output_type": "error",
     "traceback": [
      "\u001b[0;31m---------------------------------------------------------------------------\u001b[0m",
      "\u001b[0;31mValueError\u001b[0m                                Traceback (most recent call last)",
      "\u001b[0;32m/tmp/ipykernel_3458659/3284795985.py\u001b[0m in \u001b[0;36m<module>\u001b[0;34m\u001b[0m\n\u001b[0;32m----> 1\u001b[0;31m \u001b[0mdelta_papers\u001b[0m\u001b[0;34m,\u001b[0m \u001b[0mdelta_keywordgroup\u001b[0m\u001b[0;34m,\u001b[0m \u001b[0mdelta_keywordbridge\u001b[0m\u001b[0;34m,\u001b[0m \u001b[0mdelta_authorgroup\u001b[0m\u001b[0;34m,\u001b[0m \u001b[0mdelta_authorbridge\u001b[0m\u001b[0;34m=\u001b[0m\u001b[0mpape\u001b[0m\u001b[0;34m.\u001b[0m\u001b[0mfind_delta_papers\u001b[0m\u001b[0;34m(\u001b[0m\u001b[0mfinal_source_papers\u001b[0m\u001b[0;34m,\u001b[0m \u001b[0mpapers_in_dwh\u001b[0m\u001b[0;34m)\u001b[0m\u001b[0;34m\u001b[0m\u001b[0;34m\u001b[0m\u001b[0m\n\u001b[0m",
      "\u001b[0;31mValueError\u001b[0m: too many values to unpack (expected 5)"
     ]
    }
   ],
   "source": [
    "delta_papers, delta_keywordgroup, delta_keywordbridge, delta_authorgroup, delta_authorbridge=pape.find_delta_papers(final_source_papers, papers_in_dwh)"
   ]
  },
  {
   "cell_type": "markdown",
   "metadata": {},
   "source": [
    "Option 1: in paper transformation alle funktionen implemntieren, die author-, keyword- und journal transformation auch haben und hier noch mal alles mit den article_ids ausführen um die foreign keys in der db nsuchen zu können (lookup)\n",
    "\n",
    "Option 2: author-, keyword- und journal transformation sind class attributes von paper transformation, und beinhalten jeweils noch eine Funktion, welche den Link zu paper_id bzw citekey herstellt und ausgibt.\n",
    "\n",
    "Option 3: einen anderen algorithmus für primary keys nutzen, der auf basis eines strings immer die gleiche nummer zurückgibt (hash value, e.g. SHA1), dann ist kein lookup nötig. Vorteil: Independent / parallel processing, child table kann vor parent table geladen werden. Kombiniert mit 1 oder 2. \n",
    "\n",
    "DEPENDENCY INJECTION!?\n",
    "https://roelantvos.com/blog/using-a-natural-business-key-the-end-of-hash-keys/"
   ]
  },
  {
   "cell_type": "code",
   "execution_count": null,
   "metadata": {},
   "outputs": [],
   "source": []
  },
  {
   "cell_type": "code",
   "execution_count": 9,
   "metadata": {},
   "outputs": [
    {
     "name": "stdout",
     "output_type": "stream",
     "text": [
      "(192003, 5)\n",
      "(7479, 5)\n"
     ]
    }
   ],
   "source": [
    "print(ref.shape)\n",
    "print(pap.shape)"
   ]
  },
  {
   "cell_type": "code",
   "execution_count": 5,
   "metadata": {},
   "outputs": [
    {
     "data": {
      "text/plain": [
       "(174318, 5)"
      ]
     },
     "execution_count": 5,
     "metadata": {},
     "output_type": "execute_result"
    }
   ],
   "source": [
    "all.dropna(axis=0, how='all', inplace=True)\n",
    "all.shape"
   ]
  },
  {
   "cell_type": "code",
   "execution_count": 7,
   "metadata": {},
   "outputs": [],
   "source": [
    "#all.fillna({'journal': 'MISSING', 'volume':0, 'issue': 0, 'publisher': 'MISSING', 'place': 'MISSING'}, inplace=True)"
   ]
  }
 ],
 "metadata": {
  "interpreter": {
   "hash": "390644c4b70b83482620604a264a508eb1179d5ce45745f92e02274b2a7257d8"
  },
  "kernelspec": {
   "display_name": "Python 3.9.8 64-bit ('thesis3.9': venv)",
   "language": "python",
   "name": "python3"
  },
  "language_info": {
   "codemirror_mode": {
    "name": "ipython",
    "version": 3
   },
   "file_extension": ".py",
   "mimetype": "text/x-python",
   "name": "python",
   "nbconvert_exporter": "python",
   "pygments_lexer": "ipython3",
   "version": "3.9.8"
  },
  "orig_nbformat": 4
 },
 "nbformat": 4,
 "nbformat_minor": 2
}
