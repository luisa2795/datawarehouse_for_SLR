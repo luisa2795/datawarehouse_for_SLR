{
 "cells": [
  {
   "cell_type": "code",
   "execution_count": 3,
   "metadata": {},
   "outputs": [],
   "source": [
    "\n",
    "from variables import sourcepath\n",
    "import os\n",
    "import pandas as pd\n",
    "import numpy as np\n",
    "import etl.dim_author as auth\n",
    "import etl.dim_journal as jour\n",
    "import etl.common_functions as cof\n",
    "import etl.dim_paper as pape\n",
    "import etl.database as db\n",
    "from db_credentials import dwh_db_connection_params\n",
    "import roman\n",
    "import datetime\n"
   ]
  },
  {
   "cell_type": "code",
   "execution_count": 4,
   "metadata": {},
   "outputs": [],
   "source": [
    "eng, psycop2connect=db.initialize_engine(connection_params=dwh_db_connection_params)\n",
    "paragraphs_in_dwh=db.load_full_table(eng, 'dim_paragraph')\n"
   ]
  }
 ],
 "metadata": {
  "interpreter": {
   "hash": "390644c4b70b83482620604a264a508eb1179d5ce45745f92e02274b2a7257d8"
  },
  "kernelspec": {
   "display_name": "Python 3.9.8 64-bit ('thesis3.9': venv)",
   "language": "python",
   "name": "python3"
  },
  "language_info": {
   "codemirror_mode": {
    "name": "ipython",
    "version": 3
   },
   "file_extension": ".py",
   "mimetype": "text/x-python",
   "name": "python",
   "nbconvert_exporter": "python",
   "pygments_lexer": "ipython3",
   "version": "3.9.8"
  },
  "orig_nbformat": 4
 },
 "nbformat": 4,
 "nbformat_minor": 2
}
