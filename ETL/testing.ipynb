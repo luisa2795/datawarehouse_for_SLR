{
 "cells": [
  {
   "cell_type": "code",
   "execution_count": 43,
   "metadata": {},
   "outputs": [],
   "source": [
    "\n",
    "from variables import sourcepath, yaml_path\n",
    "import os\n",
    "import pandas as pd\n",
    "import numpy as np\n",
    "import etl.dim_author as auth\n",
    "import etl.dim_journal as jour\n",
    "import etl.common_functions as cof\n",
    "import etl.dim_paper as pape\n",
    "import etl.database as db\n",
    "from db_credentials import dwh_db_connection_params\n",
    "import roman\n",
    "import datetime\n",
    "import yaml"
   ]
  },
  {
   "cell_type": "code",
   "execution_count": null,
   "metadata": {},
   "outputs": [],
   "source": []
  },
  {
   "cell_type": "code",
   "execution_count": 57,
   "metadata": {},
   "outputs": [],
   "source": [
    "eng, psycop2connect=db.initialize_engine(connection_params=dwh_db_connection_params)"
   ]
  },
  {
   "cell_type": "code",
   "execution_count": null,
   "metadata": {},
   "outputs": [],
   "source": [
    "for file in os.listdir(yaml_path):\n",
    "    if file.endswith('.yaml'):\n",
    "        with open(yaml_path + '/' + file, encoding='UTF-8') as f:\n",
    "            yaml_data = yaml.load_all(f, Loader=yaml.SafeLoader)\n",
    "            df=\n",
    "        #for figure_data in json_data:"
   ]
  },
  {
   "cell_type": "code",
   "execution_count": 6,
   "metadata": {},
   "outputs": [],
   "source": [
    "df_list=[]\n",
    "with open(os.path.join(yaml_path, 'conceptual_methods.yaml'), 'r') as f:\n",
    "    for doc in yaml.load_all(f, Loader=yaml.SafeLoader):\n",
    "        df=pd.json_normalize(doc)\n",
    "        df_list.append(df)"
   ]
  },
  {
   "cell_type": "code",
   "execution_count": 9,
   "metadata": {},
   "outputs": [
    {
     "data": {
      "text/html": [
       "<div>\n",
       "<style scoped>\n",
       "    .dataframe tbody tr th:only-of-type {\n",
       "        vertical-align: middle;\n",
       "    }\n",
       "\n",
       "    .dataframe tbody tr th {\n",
       "        vertical-align: top;\n",
       "    }\n",
       "\n",
       "    .dataframe thead th {\n",
       "        text-align: right;\n",
       "    }\n",
       "</style>\n",
       "<table border=\"1\" class=\"dataframe\">\n",
       "  <thead>\n",
       "    <tr style=\"text-align: right;\">\n",
       "      <th></th>\n",
       "      <th>conceptual method</th>\n",
       "    </tr>\n",
       "  </thead>\n",
       "  <tbody>\n",
       "    <tr>\n",
       "      <th>0</th>\n",
       "      <td>[{':type': 'conceptual'}, {':altLabel': ['conc...</td>\n",
       "    </tr>\n",
       "  </tbody>\n",
       "</table>\n",
       "</div>"
      ],
      "text/plain": [
       "                                   conceptual method\n",
       "0  [{':type': 'conceptual'}, {':altLabel': ['conc..."
      ]
     },
     "execution_count": 9,
     "metadata": {},
     "output_type": "execute_result"
    }
   ],
   "source": [
    "df_list[1]"
   ]
  },
  {
   "cell_type": "code",
   "execution_count": 2,
   "metadata": {},
   "outputs": [],
   "source": [
    "entities=pd.read_csv(os.path.join(sourcepath, 'entities.csv'))"
   ]
  },
  {
   "cell_type": "code",
   "execution_count": 3,
   "metadata": {},
   "outputs": [
    {
     "data": {
      "text/plain": [
       "Index(['article_id', 'para_id', 'sentence_start', 'sentence_id',\n",
       "       'journal_akronym', 'last_section_title', 'last_subsection_title',\n",
       "       'sentence_type', 'sentence', 'entity', 'label', 'ent_id', 'ent_path',\n",
       "       'level_1', 'level_2', 'level_3', 'level_4', 'level_5', 'level_6',\n",
       "       'level_7', 'level_8'],\n",
       "      dtype='object')"
      ]
     },
     "execution_count": 3,
     "metadata": {},
     "output_type": "execute_result"
    }
   ],
   "source": [
    "entities.columns"
   ]
  },
  {
   "cell_type": "code",
   "execution_count": 4,
   "metadata": {},
   "outputs": [
    {
     "data": {
      "text/html": [
       "<div>\n",
       "<style scoped>\n",
       "    .dataframe tbody tr th:only-of-type {\n",
       "        vertical-align: middle;\n",
       "    }\n",
       "\n",
       "    .dataframe tbody tr th {\n",
       "        vertical-align: top;\n",
       "    }\n",
       "\n",
       "    .dataframe thead th {\n",
       "        text-align: right;\n",
       "    }\n",
       "</style>\n",
       "<table border=\"1\" class=\"dataframe\">\n",
       "  <thead>\n",
       "    <tr style=\"text-align: right;\">\n",
       "      <th></th>\n",
       "      <th>label</th>\n",
       "      <th>ent_id</th>\n",
       "      <th>ent_path</th>\n",
       "    </tr>\n",
       "  </thead>\n",
       "  <tbody>\n",
       "    <tr>\n",
       "      <th>0</th>\n",
       "      <td>TOPIC</td>\n",
       "      <td>knowledge repository</td>\n",
       "      <td>IS topic/knowledge management/knowledge reposi...</td>\n",
       "    </tr>\n",
       "    <tr>\n",
       "      <th>1</th>\n",
       "      <td>TOPIC</td>\n",
       "      <td>digital platform</td>\n",
       "      <td>IS topic/digital business/digital platform</td>\n",
       "    </tr>\n",
       "    <tr>\n",
       "      <th>2</th>\n",
       "      <td>TECHNOLOGY</td>\n",
       "      <td>Salesforce.com</td>\n",
       "      <td>IS technology/enterprise information system/op...</td>\n",
       "    </tr>\n",
       "    <tr>\n",
       "      <th>3</th>\n",
       "      <td>CONCEPTUAL_METHOD</td>\n",
       "      <td>participatory design</td>\n",
       "      <td>conceptual method/design science/design method...</td>\n",
       "    </tr>\n",
       "    <tr>\n",
       "      <th>4</th>\n",
       "      <td>PARTICIPANTS</td>\n",
       "      <td>group participant</td>\n",
       "      <td>participant/group participant</td>\n",
       "    </tr>\n",
       "    <tr>\n",
       "      <th>5</th>\n",
       "      <td>CONCEPTUAL_METHOD</td>\n",
       "      <td>participatory design</td>\n",
       "      <td>conceptual method/design science/design method...</td>\n",
       "    </tr>\n",
       "    <tr>\n",
       "      <th>6</th>\n",
       "      <td>TECHNOLOGY</td>\n",
       "      <td>blog</td>\n",
       "      <td>IS technology/social media/blog</td>\n",
       "    </tr>\n",
       "    <tr>\n",
       "      <th>7</th>\n",
       "      <td>TECHNOLOGY</td>\n",
       "      <td>blog</td>\n",
       "      <td>IS technology/social media/blog</td>\n",
       "    </tr>\n",
       "    <tr>\n",
       "      <th>8</th>\n",
       "      <td>TECHNOLOGY</td>\n",
       "      <td>online community</td>\n",
       "      <td>IS technology/social media/online community</td>\n",
       "    </tr>\n",
       "    <tr>\n",
       "      <th>9</th>\n",
       "      <td>TECHNOLOGY</td>\n",
       "      <td>Reddit</td>\n",
       "      <td>IS technology/social media/social media site/R...</td>\n",
       "    </tr>\n",
       "  </tbody>\n",
       "</table>\n",
       "</div>"
      ],
      "text/plain": [
       "               label                ent_id  \\\n",
       "0              TOPIC  knowledge repository   \n",
       "1              TOPIC      digital platform   \n",
       "2         TECHNOLOGY        Salesforce.com   \n",
       "3  CONCEPTUAL_METHOD  participatory design   \n",
       "4       PARTICIPANTS     group participant   \n",
       "5  CONCEPTUAL_METHOD  participatory design   \n",
       "6         TECHNOLOGY                  blog   \n",
       "7         TECHNOLOGY                  blog   \n",
       "8         TECHNOLOGY      online community   \n",
       "9         TECHNOLOGY                Reddit   \n",
       "\n",
       "                                            ent_path  \n",
       "0  IS topic/knowledge management/knowledge reposi...  \n",
       "1         IS topic/digital business/digital platform  \n",
       "2  IS technology/enterprise information system/op...  \n",
       "3  conceptual method/design science/design method...  \n",
       "4                      participant/group participant  \n",
       "5  conceptual method/design science/design method...  \n",
       "6                    IS technology/social media/blog  \n",
       "7                    IS technology/social media/blog  \n",
       "8        IS technology/social media/online community  \n",
       "9  IS technology/social media/social media site/R...  "
      ]
     },
     "execution_count": 4,
     "metadata": {},
     "output_type": "execute_result"
    }
   ],
   "source": [
    "for_map_and_dim=entities[['label', 'ent_id', 'ent_path']]\n",
    "for_map_and_dim.head(10)"
   ]
  },
  {
   "cell_type": "code",
   "execution_count": 5,
   "metadata": {},
   "outputs": [
    {
     "data": {
      "text/plain": [
       "(2137618, 3)"
      ]
     },
     "execution_count": 5,
     "metadata": {},
     "output_type": "execute_result"
    }
   ],
   "source": [
    "for_map_and_dim.shape"
   ]
  },
  {
   "cell_type": "code",
   "execution_count": 32,
   "metadata": {},
   "outputs": [
    {
     "name": "stderr",
     "output_type": "stream",
     "text": [
      "/home/luisa_waack/virtualenvs/thesis3.9/lib/python3.9/site-packages/pandas/util/_decorators.py:311: SettingWithCopyWarning: \n",
      "A value is trying to be set on a copy of a slice from a DataFrame\n",
      "\n",
      "See the caveats in the documentation: https://pandas.pydata.org/pandas-docs/stable/user_guide/indexing.html#returning-a-view-versus-a-copy\n",
      "  return func(*args, **kwargs)\n"
     ]
    },
    {
     "data": {
      "text/plain": [
       "(1966, 3)"
      ]
     },
     "execution_count": 32,
     "metadata": {},
     "output_type": "execute_result"
    }
   ],
   "source": [
    "for_map_and_dim.drop_duplicates(inplace=True)\n",
    "for_map_and_dim.shape"
   ]
  },
  {
   "cell_type": "code",
   "execution_count": 15,
   "metadata": {},
   "outputs": [],
   "source": [
    "hierarchies=[]\n",
    "for path in for_map_and_dim.ent_path:\n",
    "    path_as_list=path.split('/')\n",
    "    for idx1, parent_ent in enumerate(path_as_list):\n",
    "        for idx2, child_ent in enumerate(path_as_list):\n",
    "            if idx2-idx1 >-1:\n",
    "                if idx1==0:\n",
    "                    highest_parent_flag=True\n",
    "                else:\n",
    "                    highest_parent_flag=False\n",
    "                parent_child_relations=[parent_ent, child_ent, (idx2-idx1), highest_parent_flag]\n",
    "                hierarchies.append(parent_child_relations)\n"
   ]
  },
  {
   "cell_type": "code",
   "execution_count": 30,
   "metadata": {},
   "outputs": [],
   "source": [
    "map_entity_hierarchy=pd.DataFrame(hierarchies, columns=['parent', 'child', 'depth_from_parent', 'highest_parent_flag']).drop_duplicates()\n",
    "#get list of leaf nodes (those that have no child entities but themselves)\n",
    "lowest_children=map_entity_hierarchy.parent.value_counts().loc[lambda x: x==1].index.to_list()\n",
    "#assign lowest child flag based on this list\n",
    "map_entity_hierarchy['lowest_child_flag']=map_entity_hierarchy['child'].apply(lambda c: True if c in lowest_children else False)"
   ]
  },
  {
   "cell_type": "code",
   "execution_count": 36,
   "metadata": {},
   "outputs": [
    {
     "data": {
      "text/html": [
       "<div>\n",
       "<style scoped>\n",
       "    .dataframe tbody tr th:only-of-type {\n",
       "        vertical-align: middle;\n",
       "    }\n",
       "\n",
       "    .dataframe tbody tr th {\n",
       "        vertical-align: top;\n",
       "    }\n",
       "\n",
       "    .dataframe thead th {\n",
       "        text-align: right;\n",
       "    }\n",
       "</style>\n",
       "<table border=\"1\" class=\"dataframe\">\n",
       "  <thead>\n",
       "    <tr style=\"text-align: right;\">\n",
       "      <th></th>\n",
       "      <th>parent</th>\n",
       "      <th>child</th>\n",
       "      <th>depth_from_parent</th>\n",
       "      <th>highest_parent_flag</th>\n",
       "      <th>lowest_child_flag</th>\n",
       "    </tr>\n",
       "  </thead>\n",
       "  <tbody>\n",
       "    <tr>\n",
       "      <th>0</th>\n",
       "      <td>IS topic</td>\n",
       "      <td>IS topic</td>\n",
       "      <td>0</td>\n",
       "      <td>True</td>\n",
       "      <td>False</td>\n",
       "    </tr>\n",
       "    <tr>\n",
       "      <th>1</th>\n",
       "      <td>IS topic</td>\n",
       "      <td>knowledge management</td>\n",
       "      <td>1</td>\n",
       "      <td>True</td>\n",
       "      <td>False</td>\n",
       "    </tr>\n",
       "    <tr>\n",
       "      <th>2</th>\n",
       "      <td>IS topic</td>\n",
       "      <td>knowledge repository</td>\n",
       "      <td>2</td>\n",
       "      <td>True</td>\n",
       "      <td>True</td>\n",
       "    </tr>\n",
       "    <tr>\n",
       "      <th>3</th>\n",
       "      <td>knowledge management</td>\n",
       "      <td>knowledge management</td>\n",
       "      <td>0</td>\n",
       "      <td>False</td>\n",
       "      <td>False</td>\n",
       "    </tr>\n",
       "    <tr>\n",
       "      <th>4</th>\n",
       "      <td>knowledge management</td>\n",
       "      <td>knowledge repository</td>\n",
       "      <td>1</td>\n",
       "      <td>False</td>\n",
       "      <td>True</td>\n",
       "    </tr>\n",
       "    <tr>\n",
       "      <th>...</th>\n",
       "      <td>...</td>\n",
       "      <td>...</td>\n",
       "      <td>...</td>\n",
       "      <td>...</td>\n",
       "      <td>...</td>\n",
       "    </tr>\n",
       "    <tr>\n",
       "      <th>20973</th>\n",
       "      <td>sequence mining</td>\n",
       "      <td>sequence mining</td>\n",
       "      <td>0</td>\n",
       "      <td>False</td>\n",
       "      <td>True</td>\n",
       "    </tr>\n",
       "    <tr>\n",
       "      <th>20977</th>\n",
       "      <td>economic sector</td>\n",
       "      <td>food law</td>\n",
       "      <td>3</td>\n",
       "      <td>True</td>\n",
       "      <td>True</td>\n",
       "    </tr>\n",
       "    <tr>\n",
       "      <th>20980</th>\n",
       "      <td>manufacturing industry</td>\n",
       "      <td>food law</td>\n",
       "      <td>2</td>\n",
       "      <td>False</td>\n",
       "      <td>True</td>\n",
       "    </tr>\n",
       "    <tr>\n",
       "      <th>20982</th>\n",
       "      <td>food industry</td>\n",
       "      <td>food law</td>\n",
       "      <td>1</td>\n",
       "      <td>False</td>\n",
       "      <td>True</td>\n",
       "    </tr>\n",
       "    <tr>\n",
       "      <th>20983</th>\n",
       "      <td>food law</td>\n",
       "      <td>food law</td>\n",
       "      <td>0</td>\n",
       "      <td>False</td>\n",
       "      <td>True</td>\n",
       "    </tr>\n",
       "  </tbody>\n",
       "</table>\n",
       "<p>8058 rows × 5 columns</p>\n",
       "</div>"
      ],
      "text/plain": [
       "                       parent                 child  depth_from_parent  \\\n",
       "0                    IS topic              IS topic                  0   \n",
       "1                    IS topic  knowledge management                  1   \n",
       "2                    IS topic  knowledge repository                  2   \n",
       "3        knowledge management  knowledge management                  0   \n",
       "4        knowledge management  knowledge repository                  1   \n",
       "...                       ...                   ...                ...   \n",
       "20973         sequence mining       sequence mining                  0   \n",
       "20977         economic sector              food law                  3   \n",
       "20980  manufacturing industry              food law                  2   \n",
       "20982           food industry              food law                  1   \n",
       "20983                food law              food law                  0   \n",
       "\n",
       "       highest_parent_flag  lowest_child_flag  \n",
       "0                     True              False  \n",
       "1                     True              False  \n",
       "2                     True               True  \n",
       "3                    False              False  \n",
       "4                    False               True  \n",
       "...                    ...                ...  \n",
       "20973                False               True  \n",
       "20977                 True               True  \n",
       "20980                False               True  \n",
       "20982                False               True  \n",
       "20983                False               True  \n",
       "\n",
       "[8058 rows x 5 columns]"
      ]
     },
     "execution_count": 36,
     "metadata": {},
     "output_type": "execute_result"
    }
   ],
   "source": [
    "map_entity_hierarchy"
   ]
  },
  {
   "cell_type": "code",
   "execution_count": 34,
   "metadata": {},
   "outputs": [],
   "source": [
    "#now generate primary keys\n",
    "dim_entity=for_map_and_dim[['label', 'ent_id']].drop_duplicates()"
   ]
  },
  {
   "cell_type": "code",
   "execution_count": 37,
   "metadata": {},
   "outputs": [
    {
     "data": {
      "text/html": [
       "<div>\n",
       "<style scoped>\n",
       "    .dataframe tbody tr th:only-of-type {\n",
       "        vertical-align: middle;\n",
       "    }\n",
       "\n",
       "    .dataframe tbody tr th {\n",
       "        vertical-align: top;\n",
       "    }\n",
       "\n",
       "    .dataframe thead th {\n",
       "        text-align: right;\n",
       "    }\n",
       "</style>\n",
       "<table border=\"1\" class=\"dataframe\">\n",
       "  <thead>\n",
       "    <tr style=\"text-align: right;\">\n",
       "      <th></th>\n",
       "      <th>label</th>\n",
       "      <th>ent_id</th>\n",
       "      <th>entity_pk</th>\n",
       "    </tr>\n",
       "  </thead>\n",
       "  <tbody>\n",
       "    <tr>\n",
       "      <th>0</th>\n",
       "      <td>TOPIC</td>\n",
       "      <td>knowledge repository</td>\n",
       "      <td>1</td>\n",
       "    </tr>\n",
       "    <tr>\n",
       "      <th>1</th>\n",
       "      <td>TOPIC</td>\n",
       "      <td>digital platform</td>\n",
       "      <td>2</td>\n",
       "    </tr>\n",
       "    <tr>\n",
       "      <th>2</th>\n",
       "      <td>TECHNOLOGY</td>\n",
       "      <td>Salesforce.com</td>\n",
       "      <td>3</td>\n",
       "    </tr>\n",
       "    <tr>\n",
       "      <th>3</th>\n",
       "      <td>CONCEPTUAL_METHOD</td>\n",
       "      <td>participatory design</td>\n",
       "      <td>4</td>\n",
       "    </tr>\n",
       "    <tr>\n",
       "      <th>4</th>\n",
       "      <td>PARTICIPANTS</td>\n",
       "      <td>group participant</td>\n",
       "      <td>5</td>\n",
       "    </tr>\n",
       "    <tr>\n",
       "      <th>...</th>\n",
       "      <td>...</td>\n",
       "      <td>...</td>\n",
       "      <td>...</td>\n",
       "    </tr>\n",
       "    <tr>\n",
       "      <th>2046449</th>\n",
       "      <td>SECTOR</td>\n",
       "      <td>event industry</td>\n",
       "      <td>1961</td>\n",
       "    </tr>\n",
       "    <tr>\n",
       "      <th>2051619</th>\n",
       "      <td>ANALYSIS_METHOD</td>\n",
       "      <td>autoregressive conditional heteroscedasticity ...</td>\n",
       "      <td>1962</td>\n",
       "    </tr>\n",
       "    <tr>\n",
       "      <th>2106336</th>\n",
       "      <td>ANALYSIS_METHOD</td>\n",
       "      <td>autoencoder</td>\n",
       "      <td>1963</td>\n",
       "    </tr>\n",
       "    <tr>\n",
       "      <th>2125258</th>\n",
       "      <td>ANALYSIS_METHOD</td>\n",
       "      <td>sequence mining</td>\n",
       "      <td>1964</td>\n",
       "    </tr>\n",
       "    <tr>\n",
       "      <th>2128108</th>\n",
       "      <td>SECTOR</td>\n",
       "      <td>food law</td>\n",
       "      <td>1965</td>\n",
       "    </tr>\n",
       "  </tbody>\n",
       "</table>\n",
       "<p>1965 rows × 3 columns</p>\n",
       "</div>"
      ],
      "text/plain": [
       "                     label                                             ent_id  \\\n",
       "0                    TOPIC                               knowledge repository   \n",
       "1                    TOPIC                                   digital platform   \n",
       "2               TECHNOLOGY                                     Salesforce.com   \n",
       "3        CONCEPTUAL_METHOD                               participatory design   \n",
       "4             PARTICIPANTS                                  group participant   \n",
       "...                    ...                                                ...   \n",
       "2046449             SECTOR                                     event industry   \n",
       "2051619    ANALYSIS_METHOD  autoregressive conditional heteroscedasticity ...   \n",
       "2106336    ANALYSIS_METHOD                                        autoencoder   \n",
       "2125258    ANALYSIS_METHOD                                    sequence mining   \n",
       "2128108             SECTOR                                           food law   \n",
       "\n",
       "         entity_pk  \n",
       "0                1  \n",
       "1                2  \n",
       "2                3  \n",
       "3                4  \n",
       "4                5  \n",
       "...            ...  \n",
       "2046449       1961  \n",
       "2051619       1962  \n",
       "2106336       1963  \n",
       "2125258       1964  \n",
       "2128108       1965  \n",
       "\n",
       "[1965 rows x 3 columns]"
      ]
     },
     "execution_count": 37,
     "metadata": {},
     "output_type": "execute_result"
    }
   ],
   "source": [
    "dim_entity['entity_pk']=list(range(1, 1+dim_entity.index.size))\n",
    "dim_entity"
   ]
  },
  {
   "cell_type": "code",
   "execution_count": 38,
   "metadata": {},
   "outputs": [
    {
     "data": {
      "text/plain": [
       "'autoregressive conditional heteroscedasticity model'"
      ]
     },
     "execution_count": 38,
     "metadata": {},
     "output_type": "execute_result"
    }
   ],
   "source": [
    "dim_entity.ent_id[2051619]"
   ]
  },
  {
   "cell_type": "code",
   "execution_count": 44,
   "metadata": {},
   "outputs": [],
   "source": [
    "#get parent pk\n",
    "map_entity_hierarchy=pd.merge(map_entity_hierarchy, dim_entity, how='left', left_on='parent', right_on='ent_id').drop(columns=['label', 'ent_id']).rename(columns={'entity_pk': 'parent_entity_pk'})"
   ]
  },
  {
   "cell_type": "code",
   "execution_count": 45,
   "metadata": {},
   "outputs": [
    {
     "name": "stdout",
     "output_type": "stream",
     "text": [
      "(8058, 6)\n",
      "(7354, 6)\n"
     ]
    }
   ],
   "source": [
    "print(map_entity_hierarchy.shape)\n",
    "map_entity_hierarchy.dropna(axis=0, how='any', inplace=True)\n",
    "print(map_entity_hierarchy.shape)"
   ]
  }
 ],
 "metadata": {
  "interpreter": {
   "hash": "390644c4b70b83482620604a264a508eb1179d5ce45745f92e02274b2a7257d8"
  },
  "kernelspec": {
   "display_name": "Python 3.9.8 64-bit ('thesis3.9': venv)",
   "language": "python",
   "name": "python3"
  },
  "language_info": {
   "codemirror_mode": {
    "name": "ipython",
    "version": 3
   },
   "file_extension": ".py",
   "mimetype": "text/x-python",
   "name": "python",
   "nbconvert_exporter": "python",
   "pygments_lexer": "ipython3",
   "version": "3.9.8"
  },
  "orig_nbformat": 4
 },
 "nbformat": 4,
 "nbformat_minor": 2
}
